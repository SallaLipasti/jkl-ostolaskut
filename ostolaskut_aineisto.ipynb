{
 "cells": [
  {
   "cell_type": "markdown",
   "id": "de4c1522",
   "metadata": {},
   "source": [
    "# Jyväskylän kaupungin ostot 2012-2021 <a name=\"header1\"></a>\n",
    "### Osa 1: Aineiston koostaminen\n",
    "\n",
    "## Sisältö\n",
    "1. [Johdanto](#introduction)\n",
    "2. [Aineistoon tutustuminen](#paragraph1)\n",
    "3. [Aineiston esikäsittely ja siivoaminen](#paragraph2)    \n",
    "    1. [Sarakkeiden päivittäminen](#subparagraph1)      \n",
    "    2. [Datan yhdistäminen](#subparagraph2)    \n",
    "    3. [Tietotyyppien ja arvojen tarkastelu](#subparagraph3)  \n",
    "    4. [Puuttuvien arvojen käsittely](#subparagraph4)\n",
    "    5. [Aineiston tallentaminen CSV:ksi](#subparagraph5)"
   ]
  },
  {
   "cell_type": "markdown",
   "id": "cb0f9a0e",
   "metadata": {},
   "source": [
    "## Johdanto <a name=\"introduction\"></a>\n",
    "\n",
    "Tässä tehtävässä käytetään aineistona Jyväskylän kaupungin ostolaskuja vuosilta 2012-2021, ja sitä käsitellään ja analysoidaan Pythonilla JupyterLabin avulla. Tiedot on tuotu Excel-tiedostoista, jotka on ladattu 9.5.2023 Jyväskylän kaupungin avoimen datan palvelusta osoitteesta https://data.jyvaskyla.fi/data.php. Aineistosta kerrotaan sivustolla seuraavasti: \n",
    "\n",
    "> Tiedoissa on mukana kaupungin kaikki toimialat ja liikelaitokset. Tiedot sisältävät ostolaskutiedot sekä luottokorttiostotiedot. Ostotiedot on poimittu ostolaskujen käsittelyjärjestelmästä ja kirjanpidosta ulkoisten palvelujen ja tarvikkeiden sekä käyttöomaisuusostojen tileiltä.\n",
    ">\n",
    "> Tiedot mahdollistavat kaupungin hankintojen (ostojen) tarkastelun palvelualueittain toimittaja- ja tilitasoilla. Suodattamalla tietoja voidaan vertailla ostojen toteutumia erilaisten tietojen perusteella.   \n",
    ">\n",
    "> Luottokorttiostotiedot eivät sisällä toimittajanumeroa ja kaikkien luottokorttiostojen osalta emme saa ostopaikkatietoja ilman yksittäisten tositteiden läpikäyntiä. Y-tunnustieto puuttuu henkilötoimittajien ja luottokorttiostojen osalta.    \n",
    ">\n",
    "> Ylläpitäjä ja yhteys:   \n",
    "> ostotiedot[at]jkl.fi    \n",
    "\n",
    "Aineisto ei ole täydellistä, vaan se sisältää puuttuvia arvoja ja kirjoitusvirheitä, ja ostoja on kirjattu eri vuosina hieman erinimisille vastuualueille ja tileille. Apua näiden epäselvyyksien tulkintaan on ystävällisesti antanut Jyväskylän kaupungin taloussuunnittelupäällikkö Erikka Saastamoinen. Parhaasta yrityksestä huolimatta on mahdollista, että kaupungin organisaatiorakennetta vastuualueineen ja tulosyksiköineen on tässä tulkittu paikoin väärin. Mahdolliset virheet ovat omiani.   \n",
    "\n",
    "Aineiston koostamisen ja siivoamisen jälkeen datakehikko tallennetaan csv:ksi, ja sitä käytetään myöhemmin analyysiosiossa. Ostolaskujen analyysi kokonaisuudessaan löytyy tiedostosta *'ostolaskut_anallyysi.ipynb'*.\n",
    "\n",
    "[Takaisin alkuun](#header1)"
   ]
  },
  {
   "cell_type": "markdown",
   "id": "3ff5b234",
   "metadata": {},
   "source": [
    "## Aineistoon tutustuminen <a name=\"paragraph1\"></a>\n",
    "\n",
    "Ensimmäisessä vaiheessa ladataan ostolaskutiedot sisältävät Excel-tiedostot, ja luetaan ne jatkojalostusta varten datakehikkoihin (dataframe). Sitä ennen kuitenkin tuodaan tarvittava kirjasto *'pandas'*:"
   ]
  },
  {
   "cell_type": "code",
   "execution_count": 73,
   "id": "8a1390e8",
   "metadata": {},
   "outputs": [],
   "source": [
    "import pandas as pd"
   ]
  },
  {
   "cell_type": "code",
   "execution_count": 14,
   "id": "cc12ab43",
   "metadata": {},
   "outputs": [
    {
     "name": "stderr",
     "output_type": "stream",
     "text": [
      "/Users/salla/opt/anaconda3/lib/python3.9/site-packages/openpyxl/worksheet/_read_only.py:79: UserWarning: Unknown extension is not supported and will be removed\n",
      "  for idx, row in parser.parse():\n"
     ]
    }
   ],
   "source": [
    "# Ladataan vuosittaiset ostotiedostot omiksi datakehikoiksi:\n",
    "\n",
    "df_21 = pd.read_excel(\"ostot_2021.xlsx\")\n",
    "df_20 = pd.read_excel(\"ostot_2020.xlsx\")\n",
    "df_19 = pd.read_excel(\"ostot_2019.xlsx\")\n",
    "df_18 = pd.read_excel(\"ostot_2018_final.xlsx\")\n",
    "df_17 = pd.read_excel(\"ostot_2017.xlsx\")\n",
    "df_16 = pd.read_excel(\"Ostot_2016_final_v1.0.xlsx\")\n",
    "df_15 = pd.read_excel(\"ostot2015_julkaistavaksi.xlsx\")\n",
    "df_14 = pd.read_excel(\"ostot_2014.xlsx\")\n",
    "df_13 = pd.read_excel(\"ostot_2013.xlsx\")\n",
    "df_12 = pd.read_excel(\"ostot_2012.xlsx\")"
   ]
  },
  {
   "cell_type": "markdown",
   "id": "7385b571-4526-49b6-b315-5a06c10461e1",
   "metadata": {},
   "source": [
    "Katsotaan seuraavaksi, minkä tyyppistä dataa eri vuosien datakehikot sisältävät, ja kuinka monta ei-tyhjää arvoa ne sisältävät: "
   ]
  },
  {
   "cell_type": "code",
   "execution_count": 15,
   "id": "b1ab31ca-6cf5-465f-9452-d1ebcaf1bd26",
   "metadata": {},
   "outputs": [
    {
     "name": "stdout",
     "output_type": "stream",
     "text": [
      "<class 'pandas.core.frame.DataFrame'>\n",
      "RangeIndex: 223295 entries, 0 to 223294\n",
      "Data columns (total 17 columns):\n",
      " #   Column                  Non-Null Count   Dtype         \n",
      "---  ------                  --------------   -----         \n",
      " 0   Kuntanumero             223294 non-null  float64       \n",
      " 1   Kunnan nimi             223294 non-null  object        \n",
      " 2   Kunnan y-tunnus         223294 non-null  object        \n",
      " 3   Vastuualue              223294 non-null  object        \n",
      " 4   Tulosyksikkö            223294 non-null  float64       \n",
      " 5   Tulosyksikön nimi       223294 non-null  object        \n",
      " 6   Toimittajan nimi        223294 non-null  object        \n",
      " 7   Toimittajan y-tunnus    223294 non-null  object        \n",
      " 8   Toimittajan maakoodi    223294 non-null  object        \n",
      " 9   Tiliryhmä               223294 non-null  object        \n",
      " 10  Tili                    223294 non-null  float64       \n",
      " 11  Tilin nimi              223294 non-null  object        \n",
      " 12  JHS-tili                223294 non-null  float64       \n",
      " 13  JHS-tilin nimi          223294 non-null  object        \n",
      " 14  Laskun summa ilman ALV  223295 non-null  float64       \n",
      " 15  Kirjauspäivämäärä       223294 non-null  datetime64[ns]\n",
      " 16  Palveluluokka           223294 non-null  object        \n",
      "dtypes: datetime64[ns](1), float64(5), object(11)\n",
      "memory usage: 29.0+ MB\n"
     ]
    }
   ],
   "source": [
    "# 2021: \n",
    "df_21.info()"
   ]
  },
  {
   "cell_type": "code",
   "execution_count": 16,
   "id": "32cf613b-d43f-4837-989c-86d165a511cc",
   "metadata": {},
   "outputs": [
    {
     "name": "stdout",
     "output_type": "stream",
     "text": [
      "<class 'pandas.core.frame.DataFrame'>\n",
      "RangeIndex: 128704 entries, 0 to 128703\n",
      "Data columns (total 10 columns):\n",
      " #   Column            Non-Null Count   Dtype         \n",
      "---  ------            --------------   -----         \n",
      " 0   Vastuualue        128703 non-null  object        \n",
      " 1   Toimittaja nro    128703 non-null  float64       \n",
      " 2   Y-tunnus          128703 non-null  object        \n",
      " 3   Toimittajan nimi  128703 non-null  object        \n",
      " 4   Tiliryhmä         128703 non-null  object        \n",
      " 5   Tili              128703 non-null  float64       \n",
      " 6   Tilin nimi        128703 non-null  object        \n",
      " 7   Nettosumma        128704 non-null  float64       \n",
      " 8   Kirjauspvm        128703 non-null  datetime64[ns]\n",
      " 9   Postinumero       128703 non-null  object        \n",
      "dtypes: datetime64[ns](1), float64(3), object(6)\n",
      "memory usage: 9.8+ MB\n"
     ]
    }
   ],
   "source": [
    "# 2020:\n",
    "df_20.info()"
   ]
  },
  {
   "cell_type": "code",
   "execution_count": 17,
   "id": "cd34b79e-3f09-426f-96dc-08cc6720dfec",
   "metadata": {},
   "outputs": [
    {
     "name": "stdout",
     "output_type": "stream",
     "text": [
      "<class 'pandas.core.frame.DataFrame'>\n",
      "RangeIndex: 140101 entries, 0 to 140100\n",
      "Data columns (total 9 columns):\n",
      " #   Column             Non-Null Count   Dtype         \n",
      "---  ------             --------------   -----         \n",
      " 0   Vastuualue         140101 non-null  object        \n",
      " 1   Toimittaja nro     131063 non-null  float64       \n",
      " 2   Y-tunnus           131063 non-null  object        \n",
      " 3   Toimittajan nimi   140101 non-null  object        \n",
      " 4   Tiliryhmä          140101 non-null  object        \n",
      " 5   Tili               140101 non-null  int64         \n",
      " 6   Tilin nimi         140101 non-null  object        \n",
      " 7   Nettosumma         140101 non-null  float64       \n",
      " 8   Kirjauspäivämäärä  140101 non-null  datetime64[ns]\n",
      "dtypes: datetime64[ns](1), float64(2), int64(1), object(5)\n",
      "memory usage: 9.6+ MB\n"
     ]
    }
   ],
   "source": [
    "# 2019:\n",
    "df_19.info()"
   ]
  },
  {
   "cell_type": "code",
   "execution_count": 18,
   "id": "21735da8-b9da-4836-a691-ad762ed6a407",
   "metadata": {},
   "outputs": [
    {
     "name": "stdout",
     "output_type": "stream",
     "text": [
      "<class 'pandas.core.frame.DataFrame'>\n",
      "RangeIndex: 226319 entries, 0 to 226318\n",
      "Data columns (total 9 columns):\n",
      " #   Column            Non-Null Count   Dtype         \n",
      "---  ------            --------------   -----         \n",
      " 0   Vastuualue        226318 non-null  object        \n",
      " 1   Toimittaja nro    217602 non-null  float64       \n",
      " 2   Y-tunnus          217602 non-null  object        \n",
      " 3   Toimittajan nimi  226318 non-null  object        \n",
      " 4   Tiliryhmä         226318 non-null  object        \n",
      " 5   Tili              226318 non-null  float64       \n",
      " 6   Tilin nimi        226318 non-null  object        \n",
      " 7   Nettosumma        226319 non-null  float64       \n",
      " 8   Kirjauspäivä      226318 non-null  datetime64[ns]\n",
      "dtypes: datetime64[ns](1), float64(3), object(5)\n",
      "memory usage: 15.5+ MB\n"
     ]
    }
   ],
   "source": [
    "# 2018:\n",
    "df_18.info()"
   ]
  },
  {
   "cell_type": "code",
   "execution_count": 19,
   "id": "05731245-f112-4590-8654-5389a6997b9f",
   "metadata": {},
   "outputs": [
    {
     "name": "stdout",
     "output_type": "stream",
     "text": [
      "<class 'pandas.core.frame.DataFrame'>\n",
      "RangeIndex: 213100 entries, 0 to 213099\n",
      "Data columns (total 9 columns):\n",
      " #   Column            Non-Null Count   Dtype  \n",
      "---  ------            --------------   -----  \n",
      " 0   Vastuualue        213100 non-null  object \n",
      " 1   Toimittaja nro    205085 non-null  float64\n",
      " 2   Y-tunnus          204371 non-null  object \n",
      " 3   Toimittajan nimi  213100 non-null  object \n",
      " 4   Tiliryhmä         213100 non-null  object \n",
      " 5   Tili              213100 non-null  int64  \n",
      " 6   Tilin nimi        213100 non-null  object \n",
      " 7   Nettosumma        213100 non-null  float64\n",
      " 8   Kirjauspäivä      213100 non-null  object \n",
      "dtypes: float64(2), int64(1), object(6)\n",
      "memory usage: 14.6+ MB\n"
     ]
    }
   ],
   "source": [
    "# 2017:\n",
    "df_17.info()"
   ]
  },
  {
   "cell_type": "code",
   "execution_count": 20,
   "id": "f5b49e1c-bacf-447e-800d-db9c21891360",
   "metadata": {},
   "outputs": [
    {
     "name": "stdout",
     "output_type": "stream",
     "text": [
      "<class 'pandas.core.frame.DataFrame'>\n",
      "RangeIndex: 213972 entries, 0 to 213971\n",
      "Data columns (total 11 columns):\n",
      " #   Column            Non-Null Count   Dtype  \n",
      "---  ------            --------------   -----  \n",
      " 0   Vastuualue        213972 non-null  object \n",
      " 1   Toimittaja  nro   204687 non-null  float64\n",
      " 2   Y-tunnus          203788 non-null  object \n",
      " 3   Toimittajan nimi  213972 non-null  object \n",
      " 4   Tiliryhmä         213972 non-null  object \n",
      " 5   Tili nro          213972 non-null  int64  \n",
      " 6   Tilin nimi        213972 non-null  object \n",
      " 7   Netto             213972 non-null  float64\n",
      " 8   Unnamed: 8        0 non-null       float64\n",
      " 9   Unnamed: 9        0 non-null       float64\n",
      " 10  Unnamed: 10       1 non-null       object \n",
      "dtypes: float64(4), int64(1), object(6)\n",
      "memory usage: 18.0+ MB\n"
     ]
    }
   ],
   "source": [
    "# 2016:\n",
    "df_16.info()"
   ]
  },
  {
   "cell_type": "code",
   "execution_count": 21,
   "id": "a1ea444f-62d6-44ab-8b66-d296437b3832",
   "metadata": {},
   "outputs": [
    {
     "name": "stdout",
     "output_type": "stream",
     "text": [
      "<class 'pandas.core.frame.DataFrame'>\n",
      "RangeIndex: 200866 entries, 0 to 200865\n",
      "Data columns (total 7 columns):\n",
      " #   Column            Non-Null Count   Dtype  \n",
      "---  ------            --------------   -----  \n",
      " 0   Vastuualue        200866 non-null  object \n",
      " 1   Toimittajan\n",
      " nro  193013 non-null  float64\n",
      " 2   Toimittajan nimi  200866 non-null  object \n",
      " 3   Tiliryhmä         200866 non-null  object \n",
      " 4   Tilit             200866 non-null  int64  \n",
      " 5   Tilin nimi        200866 non-null  object \n",
      " 6   Netto             200866 non-null  float64\n",
      "dtypes: float64(2), int64(1), object(4)\n",
      "memory usage: 10.7+ MB\n"
     ]
    }
   ],
   "source": [
    "# 2015:\n",
    "df_15.info()"
   ]
  },
  {
   "cell_type": "code",
   "execution_count": 22,
   "id": "5bb4be8b-feb9-46b5-9cdf-2db3fe452555",
   "metadata": {},
   "outputs": [
    {
     "name": "stdout",
     "output_type": "stream",
     "text": [
      "<class 'pandas.core.frame.DataFrame'>\n",
      "RangeIndex: 194125 entries, 0 to 194124\n",
      "Data columns (total 7 columns):\n",
      " #   Column            Non-Null Count   Dtype  \n",
      "---  ------            --------------   -----  \n",
      " 0   Vastuualue        194125 non-null  object \n",
      " 1   Toimittajan\n",
      "nro   187926 non-null  float64\n",
      " 2   Toimittajan nimi  194125 non-null  object \n",
      " 3   Tiliryhmä         194125 non-null  object \n",
      " 4   Tili nro          194125 non-null  int64  \n",
      " 5   Tilin nimi        194124 non-null  object \n",
      " 6   Netto             194125 non-null  float64\n",
      "dtypes: float64(2), int64(1), object(4)\n",
      "memory usage: 10.4+ MB\n"
     ]
    }
   ],
   "source": [
    "# 2014:\n",
    "df_14.info()"
   ]
  },
  {
   "cell_type": "code",
   "execution_count": 23,
   "id": "0499c874-3356-455b-9ce9-cfc54c781547",
   "metadata": {},
   "outputs": [
    {
     "name": "stdout",
     "output_type": "stream",
     "text": [
      "<class 'pandas.core.frame.DataFrame'>\n",
      "RangeIndex: 207808 entries, 0 to 207807\n",
      "Data columns (total 7 columns):\n",
      " #   Column            Non-Null Count   Dtype  \n",
      "---  ------            --------------   -----  \n",
      " 0   Vastuualue        207808 non-null  object \n",
      " 1   Toimittaja nro    200462 non-null  float64\n",
      " 2   Toimittajan nimi  207808 non-null  object \n",
      " 3   Tiliryhmä         207808 non-null  object \n",
      " 4   Tili nro          207808 non-null  int64  \n",
      " 5   Tilin nimi        207779 non-null  object \n",
      " 6   Netto             207808 non-null  float64\n",
      "dtypes: float64(2), int64(1), object(4)\n",
      "memory usage: 11.1+ MB\n"
     ]
    }
   ],
   "source": [
    "# 2013:\n",
    "df_13.info()"
   ]
  },
  {
   "cell_type": "code",
   "execution_count": 24,
   "id": "2e3cc30e-f597-4baf-ad6b-843670e6e43d",
   "metadata": {},
   "outputs": [
    {
     "name": "stdout",
     "output_type": "stream",
     "text": [
      "<class 'pandas.core.frame.DataFrame'>\n",
      "RangeIndex: 205600 entries, 0 to 205599\n",
      "Data columns (total 7 columns):\n",
      " #   Column            Non-Null Count   Dtype  \n",
      "---  ------            --------------   -----  \n",
      " 0   Vastuualue        205600 non-null  object \n",
      " 1   Toimittaja nro    198144 non-null  float64\n",
      " 2   Toimittajan nimi  205600 non-null  object \n",
      " 3   Tiliryhmä         205600 non-null  object \n",
      " 4   Tili nro          205600 non-null  int64  \n",
      " 5   Tilin nimi        205600 non-null  object \n",
      " 6   Netto             205600 non-null  float64\n",
      "dtypes: float64(2), int64(1), object(4)\n",
      "memory usage: 11.0+ MB\n"
     ]
    }
   ],
   "source": [
    "# 2012:\n",
    "df_12.info()"
   ]
  },
  {
   "cell_type": "markdown",
   "id": "266c2e21-ec1f-4d71-8ca3-83df623d717b",
   "metadata": {},
   "source": [
    "Yllä olevasta huomataan, että ostolaskutiedostot sisältävät erilaista dataa eri vuosilta. Kun vuoden 2021 datakehikossa on 17 saraketta, vuosina 2012-2015 niitä on ollut vain 7. Analyysiä varten aineistoa on yhdenmukaistettava, jotta eri vuosien datakehikot voidaan yhdistää ja ostoja vertailla keskenään. "
   ]
  },
  {
   "cell_type": "markdown",
   "id": "7409c111",
   "metadata": {},
   "source": [
    "[Takaisin alkuun](#header1)\n",
    "\n",
    "## Aineiston esikäsittely ja siivoaminen <a name=\"paragraph2\"></a>\n",
    "\n",
    "Tässä vaiheessa eri vuosien datakehikkoja muokataan niin, että ne voidaan lopulta koostaa yhdeksi datakehikoksi *'df'*. Koska eri vuosina ostoaineistot on koostettu eri tavoin, ylimääräisiä sarakkeita pitää poistaa ja tarkastaa, että jäljelle jäävät sarakkeet on nimetty yhdenmukaisesti. Tässä vaiheessa myös varmistetaan, että sarakkeiden tietotyypit ovat oikein, ja että aineiston sisältämät puuttuvat arvot käsitellään asianmukaisesti. Valitettavasti kirjauspäivämäärä jätetään huomioimatta tässä projektissa, sillä se puuttuu suurimmasta osasta vuosiaineistoja. Uuteen datakehikkoon *'df'* otetaan näin ollen ainoastaan seuraavat sarakkeet: *'Vuosi'* (uusi sarake), *'Vastuualue'*, *'Toimittajan nimi'*, *'Tiliryhmä'*, *'Tilin nimi'* sekä *'Nettosumma'*. \n",
    "\n",
    "### Sarakkeiden päivittäminen <a name=\"subparagraph1\"></a>  \n",
    "\n",
    "Seuraavassa käydään vuosittaiset datakehikot yksi kerrallaan läpi, ja tehdään kuhunkin tarvittavat muutokset niin, että kuhunkin jää jäljelle halutut kuusi saraketta.   \n",
    "\n",
    "**2021:**"
   ]
  },
  {
   "cell_type": "code",
   "execution_count": 77,
   "id": "dc7bd480-5e6a-4545-9bed-6400679de236",
   "metadata": {},
   "outputs": [
    {
     "data": {
      "text/plain": [
       "Index(['Kuntanumero', 'Kunnan nimi ', 'Kunnan y-tunnus', 'Vastuualue',\n",
       "       'Tulosyksikkö', 'Tulosyksikön nimi', 'Toimittajan nimi',\n",
       "       'Toimittajan y-tunnus', 'Toimittajan maakoodi', 'Tiliryhmä', 'Tili',\n",
       "       'Tilin nimi', 'JHS-tili', 'JHS-tilin nimi', 'Laskun summa ilman ALV',\n",
       "       'Kirjauspäivämäärä', 'Palveluluokka'],\n",
       "      dtype='object')"
      ]
     },
     "execution_count": 77,
     "metadata": {},
     "output_type": "execute_result"
    }
   ],
   "source": [
    "# Katsotaan datakehikon sarakkeet:\n",
    "df_21.columns"
   ]
  },
  {
   "cell_type": "code",
   "execution_count": 78,
   "id": "319e098b",
   "metadata": {},
   "outputs": [
    {
     "data": {
      "text/html": [
       "<div>\n",
       "<style scoped>\n",
       "    .dataframe tbody tr th:only-of-type {\n",
       "        vertical-align: middle;\n",
       "    }\n",
       "\n",
       "    .dataframe tbody tr th {\n",
       "        vertical-align: top;\n",
       "    }\n",
       "\n",
       "    .dataframe thead th {\n",
       "        text-align: right;\n",
       "    }\n",
       "</style>\n",
       "<table border=\"1\" class=\"dataframe\">\n",
       "  <thead>\n",
       "    <tr style=\"text-align: right;\">\n",
       "      <th></th>\n",
       "      <th>Vuosi</th>\n",
       "      <th>Vastuualue</th>\n",
       "      <th>Toimittajan nimi</th>\n",
       "      <th>Tiliryhmä</th>\n",
       "      <th>Tilin nimi</th>\n",
       "      <th>Nettosumma</th>\n",
       "    </tr>\n",
       "  </thead>\n",
       "  <tbody>\n",
       "    <tr>\n",
       "      <th>0</th>\n",
       "      <td>2021</td>\n",
       "      <td>Konsernihallinto</td>\n",
       "      <td>KEPIT SYSTEMS OY</td>\n",
       "      <td>Ulkoiset palvelujen ostot</td>\n",
       "      <td>Asiantuntijapalvelut</td>\n",
       "      <td>1770.0</td>\n",
       "    </tr>\n",
       "    <tr>\n",
       "      <th>1</th>\n",
       "      <td>2021</td>\n",
       "      <td>Konsernihallinto</td>\n",
       "      <td>KEPIT SYSTEMS OY</td>\n",
       "      <td>Ulkoiset palvelujen ostot</td>\n",
       "      <td>Asiantuntijapalvelut</td>\n",
       "      <td>1100.0</td>\n",
       "    </tr>\n",
       "  </tbody>\n",
       "</table>\n",
       "</div>"
      ],
      "text/plain": [
       "  Vuosi        Vastuualue  Toimittajan nimi                  Tiliryhmä  \\\n",
       "0  2021  Konsernihallinto  KEPIT SYSTEMS OY  Ulkoiset palvelujen ostot   \n",
       "1  2021  Konsernihallinto  KEPIT SYSTEMS OY  Ulkoiset palvelujen ostot   \n",
       "\n",
       "             Tilin nimi  Nettosumma  \n",
       "0  Asiantuntijapalvelut      1770.0  \n",
       "1  Asiantuntijapalvelut      1100.0  "
      ]
     },
     "execution_count": 78,
     "metadata": {},
     "output_type": "execute_result"
    }
   ],
   "source": [
    "# Poistetaan ylimääräiset sarakkeet, ja tallennetaan jäljelle jäävät tiedot uuteen dataframeen:   \n",
    "df_21a = df_21.drop(['Kuntanumero', 'Kunnan nimi ', 'Kunnan y-tunnus', 'Tulosyksikkö', \\\n",
    "                    'Tulosyksikön nimi', 'Toimittajan y-tunnus', 'Toimittajan maakoodi', \\\n",
    "                    'Tili', 'JHS-tili', 'JHS-tilin nimi', 'Kirjauspäivämäärä', \\\n",
    "                    'Palveluluokka'], axis = 1)\n",
    "\n",
    "# Vaihdetaan 'Laskun summa ilman ALV' nimeksi 'Nettosumma':\n",
    "df_21a.rename(columns = {'Laskun summa ilman ALV': 'Nettosumma'}, inplace = True)\n",
    "\n",
    "# Lisätään sarake 'Vuosi':\n",
    "df_21a.insert(loc = 0, column = 'Vuosi', value = '2021')\n",
    "\n",
    "df_21a.head(2)"
   ]
  },
  {
   "cell_type": "code",
   "execution_count": 30,
   "id": "b129d5e7-3576-4d2b-acd7-c5c687dd0b9f",
   "metadata": {},
   "outputs": [
    {
     "name": "stdout",
     "output_type": "stream",
     "text": [
      "<class 'pandas.core.frame.DataFrame'>\n",
      "RangeIndex: 223295 entries, 0 to 223294\n",
      "Data columns (total 6 columns):\n",
      " #   Column            Non-Null Count   Dtype  \n",
      "---  ------            --------------   -----  \n",
      " 0   Vuosi             223295 non-null  object \n",
      " 1   Vastuualue        223294 non-null  object \n",
      " 2   Toimittajan nimi  223294 non-null  object \n",
      " 3   Tiliryhmä         223294 non-null  object \n",
      " 4   Tilin nimi        223294 non-null  object \n",
      " 5   Nettosumma        223295 non-null  float64\n",
      "dtypes: float64(1), object(5)\n",
      "memory usage: 10.2+ MB\n"
     ]
    }
   ],
   "source": [
    "df_21a.info()"
   ]
  },
  {
   "cell_type": "markdown",
   "id": "eba2e8f7-4beb-4a13-ab0c-f69598cbb041",
   "metadata": {},
   "source": [
    "**2020:**"
   ]
  },
  {
   "cell_type": "code",
   "execution_count": 32,
   "id": "f2cf3b5a-9866-4d2b-a383-192f0f0a0085",
   "metadata": {},
   "outputs": [
    {
     "data": {
      "text/plain": [
       "Index(['Vastuualue', 'Toimittaja nro', 'Y-tunnus', 'Toimittajan nimi',\n",
       "       'Tiliryhmä', 'Tili', 'Tilin nimi', 'Nettosumma', 'Kirjauspvm',\n",
       "       'Postinumero '],\n",
       "      dtype='object')"
      ]
     },
     "execution_count": 32,
     "metadata": {},
     "output_type": "execute_result"
    }
   ],
   "source": [
    "# Katsotaan datakehikon sarakkeet:\n",
    "df_20.columns"
   ]
  },
  {
   "cell_type": "code",
   "execution_count": 79,
   "id": "d39a9e6d",
   "metadata": {},
   "outputs": [
    {
     "data": {
      "text/html": [
       "<div>\n",
       "<style scoped>\n",
       "    .dataframe tbody tr th:only-of-type {\n",
       "        vertical-align: middle;\n",
       "    }\n",
       "\n",
       "    .dataframe tbody tr th {\n",
       "        vertical-align: top;\n",
       "    }\n",
       "\n",
       "    .dataframe thead th {\n",
       "        text-align: right;\n",
       "    }\n",
       "</style>\n",
       "<table border=\"1\" class=\"dataframe\">\n",
       "  <thead>\n",
       "    <tr style=\"text-align: right;\">\n",
       "      <th></th>\n",
       "      <th>Vuosi</th>\n",
       "      <th>Vastuualue</th>\n",
       "      <th>Toimittajan nimi</th>\n",
       "      <th>Tiliryhmä</th>\n",
       "      <th>Tilin nimi</th>\n",
       "      <th>Nettosumma</th>\n",
       "    </tr>\n",
       "  </thead>\n",
       "  <tbody>\n",
       "    <tr>\n",
       "      <th>0</th>\n",
       "      <td>2020</td>\n",
       "      <td>Konsernihallinto</td>\n",
       "      <td>SODEXO OY</td>\n",
       "      <td>Ulkoiset palvelujen ostot</td>\n",
       "      <td>Majoitus- ja ravitsemispalvelut</td>\n",
       "      <td>174.70</td>\n",
       "    </tr>\n",
       "    <tr>\n",
       "      <th>1</th>\n",
       "      <td>2020</td>\n",
       "      <td>Konsernihallinto</td>\n",
       "      <td>SODEXO OY</td>\n",
       "      <td>Ulkoiset palvelujen ostot</td>\n",
       "      <td>Majoitus- ja ravitsemispalvelut</td>\n",
       "      <td>991.24</td>\n",
       "    </tr>\n",
       "  </tbody>\n",
       "</table>\n",
       "</div>"
      ],
      "text/plain": [
       "  Vuosi        Vastuualue Toimittajan nimi                  Tiliryhmä  \\\n",
       "0  2020  Konsernihallinto        SODEXO OY  Ulkoiset palvelujen ostot   \n",
       "1  2020  Konsernihallinto        SODEXO OY  Ulkoiset palvelujen ostot   \n",
       "\n",
       "                        Tilin nimi  Nettosumma  \n",
       "0  Majoitus- ja ravitsemispalvelut      174.70  \n",
       "1  Majoitus- ja ravitsemispalvelut      991.24  "
      ]
     },
     "execution_count": 79,
     "metadata": {},
     "output_type": "execute_result"
    }
   ],
   "source": [
    "# Tallennetaan tarvittavat sarakkeet uuteen dataframeen:   \n",
    "df_20a = df_20[['Vastuualue', 'Toimittajan nimi', 'Tiliryhmä', 'Tilin nimi', 'Nettosumma']]\n",
    "\n",
    "# Lisätään sarake 'Vuosi':\n",
    "df_20a.insert(loc = 0, column = 'Vuosi', value = '2020')\n",
    "\n",
    "df_20a.head(2)"
   ]
  },
  {
   "cell_type": "code",
   "execution_count": 34,
   "id": "371303c7-be63-4ea1-b6db-3f4a66879a11",
   "metadata": {},
   "outputs": [
    {
     "name": "stdout",
     "output_type": "stream",
     "text": [
      "<class 'pandas.core.frame.DataFrame'>\n",
      "RangeIndex: 128704 entries, 0 to 128703\n",
      "Data columns (total 6 columns):\n",
      " #   Column            Non-Null Count   Dtype  \n",
      "---  ------            --------------   -----  \n",
      " 0   Vuosi             128704 non-null  object \n",
      " 1   Vastuualue        128703 non-null  object \n",
      " 2   Toimittajan nimi  128703 non-null  object \n",
      " 3   Tiliryhmä         128703 non-null  object \n",
      " 4   Tilin nimi        128703 non-null  object \n",
      " 5   Nettosumma        128704 non-null  float64\n",
      "dtypes: float64(1), object(5)\n",
      "memory usage: 5.9+ MB\n"
     ]
    }
   ],
   "source": [
    "df_20a.info()"
   ]
  },
  {
   "cell_type": "markdown",
   "id": "cfc23a7a-42b7-4285-9abd-ccba9075b840",
   "metadata": {},
   "source": [
    "**2019:**"
   ]
  },
  {
   "cell_type": "code",
   "execution_count": 36,
   "id": "16e3ce7c-d523-4f08-b6a7-57e2a1067ec0",
   "metadata": {},
   "outputs": [
    {
     "data": {
      "text/plain": [
       "Index(['Vastuualue', 'Toimittaja nro', 'Y-tunnus', 'Toimittajan nimi',\n",
       "       'Tiliryhmä', 'Tili', 'Tilin nimi', 'Nettosumma', 'Kirjauspäivämäärä'],\n",
       "      dtype='object')"
      ]
     },
     "execution_count": 36,
     "metadata": {},
     "output_type": "execute_result"
    }
   ],
   "source": [
    "# Katsotaan datakehikon sarakkeet:\n",
    "df_19.columns"
   ]
  },
  {
   "cell_type": "code",
   "execution_count": 80,
   "id": "9b6f1ff4",
   "metadata": {},
   "outputs": [
    {
     "data": {
      "text/html": [
       "<div>\n",
       "<style scoped>\n",
       "    .dataframe tbody tr th:only-of-type {\n",
       "        vertical-align: middle;\n",
       "    }\n",
       "\n",
       "    .dataframe tbody tr th {\n",
       "        vertical-align: top;\n",
       "    }\n",
       "\n",
       "    .dataframe thead th {\n",
       "        text-align: right;\n",
       "    }\n",
       "</style>\n",
       "<table border=\"1\" class=\"dataframe\">\n",
       "  <thead>\n",
       "    <tr style=\"text-align: right;\">\n",
       "      <th></th>\n",
       "      <th>Vuosi</th>\n",
       "      <th>Vastuualue</th>\n",
       "      <th>Toimittajan nimi</th>\n",
       "      <th>Tiliryhmä</th>\n",
       "      <th>Tilin nimi</th>\n",
       "      <th>Nettosumma</th>\n",
       "    </tr>\n",
       "  </thead>\n",
       "  <tbody>\n",
       "    <tr>\n",
       "      <th>0</th>\n",
       "      <td>2019</td>\n",
       "      <td>Sosiaali- ja terveyspalvelut</td>\n",
       "      <td>014-KULJETUS OY</td>\n",
       "      <td>Ulkoisten palvelujen ostot</td>\n",
       "      <td>Posti- ja kuriiripalvelut</td>\n",
       "      <td>6679.52</td>\n",
       "    </tr>\n",
       "    <tr>\n",
       "      <th>1</th>\n",
       "      <td>2019</td>\n",
       "      <td>Sosiaali- ja terveyspalvelut</td>\n",
       "      <td>014-KULJETUS OY</td>\n",
       "      <td>Ulkoisten palvelujen ostot</td>\n",
       "      <td>Sosiaali- ja terveyspalvelut</td>\n",
       "      <td>6691.01</td>\n",
       "    </tr>\n",
       "  </tbody>\n",
       "</table>\n",
       "</div>"
      ],
      "text/plain": [
       "  Vuosi                    Vastuualue Toimittajan nimi  \\\n",
       "0  2019  Sosiaali- ja terveyspalvelut  014-KULJETUS OY   \n",
       "1  2019  Sosiaali- ja terveyspalvelut  014-KULJETUS OY   \n",
       "\n",
       "                    Tiliryhmä                    Tilin nimi  Nettosumma  \n",
       "0  Ulkoisten palvelujen ostot     Posti- ja kuriiripalvelut     6679.52  \n",
       "1  Ulkoisten palvelujen ostot  Sosiaali- ja terveyspalvelut     6691.01  "
      ]
     },
     "execution_count": 80,
     "metadata": {},
     "output_type": "execute_result"
    }
   ],
   "source": [
    "# Tallennetaan tarvittavat sarakkeet uuteen dataframeen:   \n",
    "df_19a = df_19[['Vastuualue', 'Toimittajan nimi', 'Tiliryhmä', 'Tilin nimi', 'Nettosumma']]\n",
    "\n",
    "# Lisätään sarake 'Vuosi':\n",
    "df_19a.insert(loc = 0, column = 'Vuosi', value = '2019')\n",
    "\n",
    "df_19a.head(2)"
   ]
  },
  {
   "cell_type": "code",
   "execution_count": 46,
   "id": "4460df3a-ef43-488c-9881-5411bf04f775",
   "metadata": {},
   "outputs": [
    {
     "name": "stdout",
     "output_type": "stream",
     "text": [
      "<class 'pandas.core.frame.DataFrame'>\n",
      "RangeIndex: 140101 entries, 0 to 140100\n",
      "Data columns (total 6 columns):\n",
      " #   Column            Non-Null Count   Dtype  \n",
      "---  ------            --------------   -----  \n",
      " 0   Vuosi             140101 non-null  object \n",
      " 1   Vastuualue        140101 non-null  object \n",
      " 2   Toimittajan nimi  140101 non-null  object \n",
      " 3   Tiliryhmä         140101 non-null  object \n",
      " 4   Tilin nimi        140101 non-null  object \n",
      " 5   Nettosumma        140101 non-null  float64\n",
      "dtypes: float64(1), object(5)\n",
      "memory usage: 6.4+ MB\n"
     ]
    }
   ],
   "source": [
    "df_19a.info()"
   ]
  },
  {
   "cell_type": "markdown",
   "id": "bdaf8304-2cc2-4f3b-855c-1499987453d8",
   "metadata": {},
   "source": [
    "**2018:**"
   ]
  },
  {
   "cell_type": "code",
   "execution_count": 37,
   "id": "cb044cad-5fa5-4890-851a-d1c41a86ced8",
   "metadata": {},
   "outputs": [
    {
     "data": {
      "text/plain": [
       "Index(['Vastuualue', 'Toimittaja nro', 'Y-tunnus', 'Toimittajan nimi',\n",
       "       'Tiliryhmä', 'Tili', 'Tilin nimi', 'Nettosumma', 'Kirjauspäivä'],\n",
       "      dtype='object')"
      ]
     },
     "execution_count": 37,
     "metadata": {},
     "output_type": "execute_result"
    }
   ],
   "source": [
    "# Katsotaan datakehikon sarakkeet:\n",
    "df_18.columns"
   ]
  },
  {
   "cell_type": "code",
   "execution_count": 81,
   "id": "edfc0a09",
   "metadata": {},
   "outputs": [
    {
     "data": {
      "text/html": [
       "<div>\n",
       "<style scoped>\n",
       "    .dataframe tbody tr th:only-of-type {\n",
       "        vertical-align: middle;\n",
       "    }\n",
       "\n",
       "    .dataframe tbody tr th {\n",
       "        vertical-align: top;\n",
       "    }\n",
       "\n",
       "    .dataframe thead th {\n",
       "        text-align: right;\n",
       "    }\n",
       "</style>\n",
       "<table border=\"1\" class=\"dataframe\">\n",
       "  <thead>\n",
       "    <tr style=\"text-align: right;\">\n",
       "      <th></th>\n",
       "      <th>Vuosi</th>\n",
       "      <th>Vastuualue</th>\n",
       "      <th>Toimittajan nimi</th>\n",
       "      <th>Tiliryhmä</th>\n",
       "      <th>Tilin nimi</th>\n",
       "      <th>Nettosumma</th>\n",
       "    </tr>\n",
       "  </thead>\n",
       "  <tbody>\n",
       "    <tr>\n",
       "      <th>0</th>\n",
       "      <td>2018</td>\n",
       "      <td>100, Konsernihallinto</td>\n",
       "      <td>HERTZ AUTOVERMIETUNG G ESCHBORN</td>\n",
       "      <td>Muut toimintakulut</td>\n",
       "      <td>Muut vuokrat</td>\n",
       "      <td>29.75</td>\n",
       "    </tr>\n",
       "    <tr>\n",
       "      <th>1</th>\n",
       "      <td>2018</td>\n",
       "      <td>100, Konsernihallinto</td>\n",
       "      <td>HERTZ AUTOVERMIETUNG G ESCHBORN</td>\n",
       "      <td>Muut toimintakulut</td>\n",
       "      <td>Muut vuokrat</td>\n",
       "      <td>29.75</td>\n",
       "    </tr>\n",
       "  </tbody>\n",
       "</table>\n",
       "</div>"
      ],
      "text/plain": [
       "  Vuosi             Vastuualue                 Toimittajan nimi  \\\n",
       "0  2018  100, Konsernihallinto  HERTZ AUTOVERMIETUNG G ESCHBORN   \n",
       "1  2018  100, Konsernihallinto  HERTZ AUTOVERMIETUNG G ESCHBORN   \n",
       "\n",
       "            Tiliryhmä    Tilin nimi  Nettosumma  \n",
       "0  Muut toimintakulut  Muut vuokrat       29.75  \n",
       "1  Muut toimintakulut  Muut vuokrat       29.75  "
      ]
     },
     "execution_count": 81,
     "metadata": {},
     "output_type": "execute_result"
    }
   ],
   "source": [
    "# Tallennetaan tarvittavat sarakkeet uuteen dataframeen:   \n",
    "df_18a = df_18[['Vastuualue', 'Toimittajan nimi', 'Tiliryhmä', 'Tilin nimi', 'Nettosumma']]\n",
    "\n",
    "# Lisätään sarake 'Vuosi':\n",
    "df_18a.insert(loc = 0, column = 'Vuosi', value = '2018')\n",
    "\n",
    "df_18a.head(2)"
   ]
  },
  {
   "cell_type": "code",
   "execution_count": 48,
   "id": "8bc002db-32da-4b00-ab31-ad756505d094",
   "metadata": {},
   "outputs": [
    {
     "name": "stdout",
     "output_type": "stream",
     "text": [
      "<class 'pandas.core.frame.DataFrame'>\n",
      "RangeIndex: 226319 entries, 0 to 226318\n",
      "Data columns (total 6 columns):\n",
      " #   Column            Non-Null Count   Dtype  \n",
      "---  ------            --------------   -----  \n",
      " 0   Vuosi             226319 non-null  object \n",
      " 1   Vastuualue        226318 non-null  object \n",
      " 2   Toimittajan nimi  226318 non-null  object \n",
      " 3   Tiliryhmä         226318 non-null  object \n",
      " 4   Tilin nimi        226318 non-null  object \n",
      " 5   Nettosumma        226319 non-null  float64\n",
      "dtypes: float64(1), object(5)\n",
      "memory usage: 10.4+ MB\n"
     ]
    }
   ],
   "source": [
    "df_18a.info()"
   ]
  },
  {
   "cell_type": "markdown",
   "id": "85da4fd9-cb51-40d0-ac48-88609c5a8d1b",
   "metadata": {},
   "source": [
    "**2017:**"
   ]
  },
  {
   "cell_type": "code",
   "execution_count": 38,
   "id": "43b7eadd-5254-48ca-bd29-757a1ab221f6",
   "metadata": {},
   "outputs": [
    {
     "data": {
      "text/plain": [
       "Index(['Vastuualue', 'Toimittaja nro', 'Y-tunnus', 'Toimittajan nimi',\n",
       "       'Tiliryhmä', 'Tili', 'Tilin nimi', 'Nettosumma', 'Kirjauspäivä'],\n",
       "      dtype='object')"
      ]
     },
     "execution_count": 38,
     "metadata": {},
     "output_type": "execute_result"
    }
   ],
   "source": [
    "# Katsotaan datakehikon sarakkeet:\n",
    "df_17.columns"
   ]
  },
  {
   "cell_type": "code",
   "execution_count": 82,
   "id": "a7c57879",
   "metadata": {},
   "outputs": [
    {
     "data": {
      "text/html": [
       "<div>\n",
       "<style scoped>\n",
       "    .dataframe tbody tr th:only-of-type {\n",
       "        vertical-align: middle;\n",
       "    }\n",
       "\n",
       "    .dataframe tbody tr th {\n",
       "        vertical-align: top;\n",
       "    }\n",
       "\n",
       "    .dataframe thead th {\n",
       "        text-align: right;\n",
       "    }\n",
       "</style>\n",
       "<table border=\"1\" class=\"dataframe\">\n",
       "  <thead>\n",
       "    <tr style=\"text-align: right;\">\n",
       "      <th></th>\n",
       "      <th>Vuosi</th>\n",
       "      <th>Vastuualue</th>\n",
       "      <th>Toimittajan nimi</th>\n",
       "      <th>Tiliryhmä</th>\n",
       "      <th>Tilin nimi</th>\n",
       "      <th>Nettosumma</th>\n",
       "    </tr>\n",
       "  </thead>\n",
       "  <tbody>\n",
       "    <tr>\n",
       "      <th>0</th>\n",
       "      <td>2017</td>\n",
       "      <td>100, Konsernihallinto</td>\n",
       "      <td>SOVATEK-SÄÄTIÖ</td>\n",
       "      <td>Ulkoisten palvelujen ostot</td>\n",
       "      <td>Asiakaspalvelujen ostot</td>\n",
       "      <td>152000.0</td>\n",
       "    </tr>\n",
       "    <tr>\n",
       "      <th>1</th>\n",
       "      <td>2017</td>\n",
       "      <td>100, Konsernihallinto</td>\n",
       "      <td>SOVATEK-SÄÄTIÖ</td>\n",
       "      <td>Ulkoisten palvelujen ostot</td>\n",
       "      <td>Asiakaspalvelujen ostot</td>\n",
       "      <td>152000.0</td>\n",
       "    </tr>\n",
       "  </tbody>\n",
       "</table>\n",
       "</div>"
      ],
      "text/plain": [
       "  Vuosi             Vastuualue Toimittajan nimi                   Tiliryhmä  \\\n",
       "0  2017  100, Konsernihallinto   SOVATEK-SÄÄTIÖ  Ulkoisten palvelujen ostot   \n",
       "1  2017  100, Konsernihallinto   SOVATEK-SÄÄTIÖ  Ulkoisten palvelujen ostot   \n",
       "\n",
       "                Tilin nimi  Nettosumma  \n",
       "0  Asiakaspalvelujen ostot    152000.0  \n",
       "1  Asiakaspalvelujen ostot    152000.0  "
      ]
     },
     "execution_count": 82,
     "metadata": {},
     "output_type": "execute_result"
    }
   ],
   "source": [
    "# Tallennetaan tarvittavat sarakkeet uuteen dataframeen:   \n",
    "df_17a = df_17[['Vastuualue', 'Toimittajan nimi', 'Tiliryhmä', 'Tilin nimi', 'Nettosumma']]\n",
    "\n",
    "# Lisätään sarake 'Vuosi':\n",
    "df_17a.insert(loc = 0, column = 'Vuosi', value = '2017')\n",
    "\n",
    "df_17a.head(2)"
   ]
  },
  {
   "cell_type": "code",
   "execution_count": 50,
   "id": "aa4f8bcc-850c-4b91-916f-f6fa1ad0cdbb",
   "metadata": {},
   "outputs": [
    {
     "name": "stdout",
     "output_type": "stream",
     "text": [
      "<class 'pandas.core.frame.DataFrame'>\n",
      "RangeIndex: 213100 entries, 0 to 213099\n",
      "Data columns (total 6 columns):\n",
      " #   Column            Non-Null Count   Dtype  \n",
      "---  ------            --------------   -----  \n",
      " 0   Vuosi             213100 non-null  object \n",
      " 1   Vastuualue        213100 non-null  object \n",
      " 2   Toimittajan nimi  213100 non-null  object \n",
      " 3   Tiliryhmä         213100 non-null  object \n",
      " 4   Tilin nimi        213100 non-null  object \n",
      " 5   Nettosumma        213100 non-null  float64\n",
      "dtypes: float64(1), object(5)\n",
      "memory usage: 9.8+ MB\n"
     ]
    }
   ],
   "source": [
    "df_17a.info()"
   ]
  },
  {
   "cell_type": "markdown",
   "id": "437bf90d-74fd-4f8c-ace2-123487a09d6a",
   "metadata": {},
   "source": [
    "**2016:**"
   ]
  },
  {
   "cell_type": "code",
   "execution_count": 39,
   "id": "2c82686d-de3d-4889-b9c3-c99083afe257",
   "metadata": {},
   "outputs": [
    {
     "data": {
      "text/plain": [
       "Index(['Vastuualue', 'Toimittaja  nro', 'Y-tunnus', 'Toimittajan nimi',\n",
       "       'Tiliryhmä', 'Tili nro', 'Tilin nimi', 'Netto', 'Unnamed: 8',\n",
       "       'Unnamed: 9', 'Unnamed: 10'],\n",
       "      dtype='object')"
      ]
     },
     "execution_count": 39,
     "metadata": {},
     "output_type": "execute_result"
    }
   ],
   "source": [
    "# Katsotaan datakehikon sarakkeet:\n",
    "df_16.columns"
   ]
  },
  {
   "cell_type": "code",
   "execution_count": 83,
   "id": "e14a219a",
   "metadata": {},
   "outputs": [
    {
     "data": {
      "text/html": [
       "<div>\n",
       "<style scoped>\n",
       "    .dataframe tbody tr th:only-of-type {\n",
       "        vertical-align: middle;\n",
       "    }\n",
       "\n",
       "    .dataframe tbody tr th {\n",
       "        vertical-align: top;\n",
       "    }\n",
       "\n",
       "    .dataframe thead th {\n",
       "        text-align: right;\n",
       "    }\n",
       "</style>\n",
       "<table border=\"1\" class=\"dataframe\">\n",
       "  <thead>\n",
       "    <tr style=\"text-align: right;\">\n",
       "      <th></th>\n",
       "      <th>Vuosi</th>\n",
       "      <th>Vastuualue</th>\n",
       "      <th>Toimittajan nimi</th>\n",
       "      <th>Tiliryhmä</th>\n",
       "      <th>Tilin nimi</th>\n",
       "      <th>Nettosumma</th>\n",
       "    </tr>\n",
       "  </thead>\n",
       "  <tbody>\n",
       "    <tr>\n",
       "      <th>0</th>\n",
       "      <td>2016</td>\n",
       "      <td>Altek Aluetekniikka</td>\n",
       "      <td>3D-SYSTEM OY</td>\n",
       "      <td>Ulkoisten palvelujen ostot</td>\n",
       "      <td>Toimisto- ja asiantuntijapalvelut</td>\n",
       "      <td>1328.5</td>\n",
       "    </tr>\n",
       "    <tr>\n",
       "      <th>1</th>\n",
       "      <td>2016</td>\n",
       "      <td>Altek Aluetekniikka</td>\n",
       "      <td>3D-SYSTEM OY</td>\n",
       "      <td>Ulkoisten palvelujen ostot</td>\n",
       "      <td>Toimisto- ja asiantuntijapalvelut</td>\n",
       "      <td>1328.5</td>\n",
       "    </tr>\n",
       "  </tbody>\n",
       "</table>\n",
       "</div>"
      ],
      "text/plain": [
       "  Vuosi           Vastuualue Toimittajan nimi                   Tiliryhmä  \\\n",
       "0  2016  Altek Aluetekniikka     3D-SYSTEM OY  Ulkoisten palvelujen ostot   \n",
       "1  2016  Altek Aluetekniikka     3D-SYSTEM OY  Ulkoisten palvelujen ostot   \n",
       "\n",
       "                          Tilin nimi  Nettosumma  \n",
       "0  Toimisto- ja asiantuntijapalvelut      1328.5  \n",
       "1  Toimisto- ja asiantuntijapalvelut      1328.5  "
      ]
     },
     "execution_count": 83,
     "metadata": {},
     "output_type": "execute_result"
    }
   ],
   "source": [
    "# Tallennetaan tarvittavat sarakkeet uuteen dataframeen:   \n",
    "df_16a = df_16[['Vastuualue', 'Toimittajan nimi', 'Tiliryhmä', 'Tilin nimi', 'Netto']].copy()\n",
    "\n",
    "# Vaihdetaan sarakkeen 'Netto' nimeksi 'Nettosumma':\n",
    "df_16a.rename(columns = {'Netto': 'Nettosumma'}, inplace = True)\n",
    "\n",
    "# Lisätään sarake 'Vuosi':\n",
    "df_16a.insert(loc = 0, column = 'Vuosi', value = '2016')\n",
    "\n",
    "df_16a.head(2)"
   ]
  },
  {
   "cell_type": "code",
   "execution_count": 52,
   "id": "6177f1ec-ce55-4a9c-b557-cdff92da15f1",
   "metadata": {},
   "outputs": [
    {
     "name": "stdout",
     "output_type": "stream",
     "text": [
      "<class 'pandas.core.frame.DataFrame'>\n",
      "RangeIndex: 213972 entries, 0 to 213971\n",
      "Data columns (total 6 columns):\n",
      " #   Column            Non-Null Count   Dtype  \n",
      "---  ------            --------------   -----  \n",
      " 0   Vuosi             213972 non-null  object \n",
      " 1   Vastuualue        213972 non-null  object \n",
      " 2   Toimittajan nimi  213972 non-null  object \n",
      " 3   Tiliryhmä         213972 non-null  object \n",
      " 4   Tilin nimi        213972 non-null  object \n",
      " 5   Nettosumma        213972 non-null  float64\n",
      "dtypes: float64(1), object(5)\n",
      "memory usage: 9.8+ MB\n"
     ]
    }
   ],
   "source": [
    "df_16a.info()"
   ]
  },
  {
   "cell_type": "markdown",
   "id": "af8a6700-0b84-4318-9671-5a862cf1b7a5",
   "metadata": {},
   "source": [
    "**2015:**"
   ]
  },
  {
   "cell_type": "code",
   "execution_count": 40,
   "id": "ec59ab77-1a77-4a00-85c5-140e4216a3c6",
   "metadata": {},
   "outputs": [
    {
     "data": {
      "text/plain": [
       "Index(['Vastuualue', 'Toimittajan\\n nro', 'Toimittajan nimi', 'Tiliryhmä',\n",
       "       'Tilit', 'Tilin nimi', 'Netto'],\n",
       "      dtype='object')"
      ]
     },
     "execution_count": 40,
     "metadata": {},
     "output_type": "execute_result"
    }
   ],
   "source": [
    "# Katsotaan datakehikon sarakkeet:\n",
    "df_15.columns"
   ]
  },
  {
   "cell_type": "code",
   "execution_count": 84,
   "id": "873b817a",
   "metadata": {},
   "outputs": [
    {
     "data": {
      "text/html": [
       "<div>\n",
       "<style scoped>\n",
       "    .dataframe tbody tr th:only-of-type {\n",
       "        vertical-align: middle;\n",
       "    }\n",
       "\n",
       "    .dataframe tbody tr th {\n",
       "        vertical-align: top;\n",
       "    }\n",
       "\n",
       "    .dataframe thead th {\n",
       "        text-align: right;\n",
       "    }\n",
       "</style>\n",
       "<table border=\"1\" class=\"dataframe\">\n",
       "  <thead>\n",
       "    <tr style=\"text-align: right;\">\n",
       "      <th></th>\n",
       "      <th>Vuosi</th>\n",
       "      <th>Vastuualue</th>\n",
       "      <th>Toimittajan nimi</th>\n",
       "      <th>Tiliryhmä</th>\n",
       "      <th>Tilin nimi</th>\n",
       "      <th>Nettosumma</th>\n",
       "    </tr>\n",
       "  </thead>\n",
       "  <tbody>\n",
       "    <tr>\n",
       "      <th>0</th>\n",
       "      <td>2015</td>\n",
       "      <td>Altek Aluetekniikka</td>\n",
       "      <td>3D-SYSTEM OY</td>\n",
       "      <td>Ulkoisten palvelujen ostot</td>\n",
       "      <td>Koulutus- ja kulttuuripalvelut</td>\n",
       "      <td>540.0</td>\n",
       "    </tr>\n",
       "    <tr>\n",
       "      <th>1</th>\n",
       "      <td>2015</td>\n",
       "      <td>Altek Aluetekniikka</td>\n",
       "      <td>3D-SYSTEM OY</td>\n",
       "      <td>Ulkoisten palvelujen ostot</td>\n",
       "      <td>Koulutus- ja kulttuuripalvelut</td>\n",
       "      <td>950.0</td>\n",
       "    </tr>\n",
       "  </tbody>\n",
       "</table>\n",
       "</div>"
      ],
      "text/plain": [
       "  Vuosi           Vastuualue Toimittajan nimi                   Tiliryhmä  \\\n",
       "0  2015  Altek Aluetekniikka     3D-SYSTEM OY  Ulkoisten palvelujen ostot   \n",
       "1  2015  Altek Aluetekniikka     3D-SYSTEM OY  Ulkoisten palvelujen ostot   \n",
       "\n",
       "                       Tilin nimi  Nettosumma  \n",
       "0  Koulutus- ja kulttuuripalvelut       540.0  \n",
       "1  Koulutus- ja kulttuuripalvelut       950.0  "
      ]
     },
     "execution_count": 84,
     "metadata": {},
     "output_type": "execute_result"
    }
   ],
   "source": [
    "# Tallennetaan tarvittavat sarakkeet uuteen dataframeen:   \n",
    "df_15a = df_15[['Vastuualue', 'Toimittajan nimi', 'Tiliryhmä', 'Tilin nimi', 'Netto']].copy()\n",
    "\n",
    "# Vaihdetaan sarakkeen 'Netto' nimeksi 'Nettosumma':\n",
    "df_15a.rename(columns = {'Netto': 'Nettosumma'}, inplace = True)\n",
    "\n",
    "# Lisätään sarake 'Vuosi':\n",
    "df_15a.insert(loc = 0, column = 'Vuosi', value = '2015')\n",
    "\n",
    "df_15a.head(2)"
   ]
  },
  {
   "cell_type": "code",
   "execution_count": 54,
   "id": "39320493-e8e8-4ccb-a910-92a9b23cdfbf",
   "metadata": {},
   "outputs": [
    {
     "name": "stdout",
     "output_type": "stream",
     "text": [
      "<class 'pandas.core.frame.DataFrame'>\n",
      "RangeIndex: 200866 entries, 0 to 200865\n",
      "Data columns (total 6 columns):\n",
      " #   Column            Non-Null Count   Dtype  \n",
      "---  ------            --------------   -----  \n",
      " 0   Vuosi             200866 non-null  object \n",
      " 1   Vastuualue        200866 non-null  object \n",
      " 2   Toimittajan nimi  200866 non-null  object \n",
      " 3   Tiliryhmä         200866 non-null  object \n",
      " 4   Tilin nimi        200866 non-null  object \n",
      " 5   Nettosumma        200866 non-null  float64\n",
      "dtypes: float64(1), object(5)\n",
      "memory usage: 9.2+ MB\n"
     ]
    }
   ],
   "source": [
    "df_15a.info()"
   ]
  },
  {
   "cell_type": "markdown",
   "id": "f21c8fbe-5e7f-4781-a224-61c6b3eb6a0a",
   "metadata": {},
   "source": [
    "**2014:**"
   ]
  },
  {
   "cell_type": "code",
   "execution_count": 41,
   "id": "6c072e3a-3bb9-4e4b-b6bf-efdc2fea21a8",
   "metadata": {},
   "outputs": [
    {
     "data": {
      "text/plain": [
       "Index(['Vastuualue', 'Toimittajan\\nnro', 'Toimittajan nimi', 'Tiliryhmä',\n",
       "       'Tili nro', 'Tilin nimi', 'Netto '],\n",
       "      dtype='object')"
      ]
     },
     "execution_count": 41,
     "metadata": {},
     "output_type": "execute_result"
    }
   ],
   "source": [
    "# Katsotaan datakehikon sarakkeet:\n",
    "df_14.columns"
   ]
  },
  {
   "cell_type": "code",
   "execution_count": 85,
   "id": "50e07230",
   "metadata": {},
   "outputs": [
    {
     "data": {
      "text/html": [
       "<div>\n",
       "<style scoped>\n",
       "    .dataframe tbody tr th:only-of-type {\n",
       "        vertical-align: middle;\n",
       "    }\n",
       "\n",
       "    .dataframe tbody tr th {\n",
       "        vertical-align: top;\n",
       "    }\n",
       "\n",
       "    .dataframe thead th {\n",
       "        text-align: right;\n",
       "    }\n",
       "</style>\n",
       "<table border=\"1\" class=\"dataframe\">\n",
       "  <thead>\n",
       "    <tr style=\"text-align: right;\">\n",
       "      <th></th>\n",
       "      <th>Vuosi</th>\n",
       "      <th>Vastuualue</th>\n",
       "      <th>Toimittajan nimi</th>\n",
       "      <th>Tiliryhmä</th>\n",
       "      <th>Tilin nimi</th>\n",
       "      <th>Nettosumma</th>\n",
       "    </tr>\n",
       "  </thead>\n",
       "  <tbody>\n",
       "    <tr>\n",
       "      <th>0</th>\n",
       "      <td>2014</td>\n",
       "      <td>100 Konsernihallinto</td>\n",
       "      <td>4140 Gigantti Jyvaskyl Vantaa</td>\n",
       "      <td>Ulkoiset aineet ja tarvikkeet</td>\n",
       "      <td>Muu materiaali</td>\n",
       "      <td>19.84</td>\n",
       "    </tr>\n",
       "    <tr>\n",
       "      <th>1</th>\n",
       "      <td>2014</td>\n",
       "      <td>100 Konsernihallinto</td>\n",
       "      <td>4140 Gigantti Jyvaskyl Vantaa</td>\n",
       "      <td>Ulkoiset aineet ja tarvikkeet</td>\n",
       "      <td>Muu materiaali</td>\n",
       "      <td>39.95</td>\n",
       "    </tr>\n",
       "  </tbody>\n",
       "</table>\n",
       "</div>"
      ],
      "text/plain": [
       "  Vuosi            Vastuualue               Toimittajan nimi  \\\n",
       "0  2014  100 Konsernihallinto  4140 Gigantti Jyvaskyl Vantaa   \n",
       "1  2014  100 Konsernihallinto  4140 Gigantti Jyvaskyl Vantaa   \n",
       "\n",
       "                       Tiliryhmä      Tilin nimi  Nettosumma  \n",
       "0  Ulkoiset aineet ja tarvikkeet  Muu materiaali       19.84  \n",
       "1  Ulkoiset aineet ja tarvikkeet  Muu materiaali       39.95  "
      ]
     },
     "execution_count": 85,
     "metadata": {},
     "output_type": "execute_result"
    }
   ],
   "source": [
    "# Tallennetaan tarvittavat sarakkeet uuteen dataframeen. \n",
    "# Huomataan, että sarake 'Netto' on muodossa 'Netto '\n",
    "df_14a = df_14[['Vastuualue', 'Toimittajan nimi', 'Tiliryhmä', 'Tilin nimi', 'Netto ']].copy()\n",
    "\n",
    "# Vaihdetaan sarakkeen 'Netto ' nimeksi 'Nettosumma':\n",
    "df_14a.rename(columns = {'Netto ': 'Nettosumma'}, inplace = True)\n",
    "\n",
    "# Lisätään sarake 'Vuosi':\n",
    "df_14a.insert(loc = 0, column = 'Vuosi', value = '2014')\n",
    "\n",
    "df_14a.head(2)"
   ]
  },
  {
   "cell_type": "code",
   "execution_count": 56,
   "id": "2b944194-bbb7-463b-a16a-889ab31e3a3a",
   "metadata": {},
   "outputs": [
    {
     "name": "stdout",
     "output_type": "stream",
     "text": [
      "<class 'pandas.core.frame.DataFrame'>\n",
      "RangeIndex: 194125 entries, 0 to 194124\n",
      "Data columns (total 6 columns):\n",
      " #   Column            Non-Null Count   Dtype  \n",
      "---  ------            --------------   -----  \n",
      " 0   Vuosi             194125 non-null  object \n",
      " 1   Vastuualue        194125 non-null  object \n",
      " 2   Toimittajan nimi  194125 non-null  object \n",
      " 3   Tiliryhmä         194125 non-null  object \n",
      " 4   Tilin nimi        194124 non-null  object \n",
      " 5   Nettosumma        194125 non-null  float64\n",
      "dtypes: float64(1), object(5)\n",
      "memory usage: 8.9+ MB\n"
     ]
    }
   ],
   "source": [
    "df_14a.info()"
   ]
  },
  {
   "cell_type": "markdown",
   "id": "53b20ef6-7031-4a26-9a21-a41381388f1b",
   "metadata": {},
   "source": [
    "**2013:**"
   ]
  },
  {
   "cell_type": "code",
   "execution_count": 42,
   "id": "281fd666-bd31-4959-a63f-3c6af9e454c4",
   "metadata": {},
   "outputs": [
    {
     "data": {
      "text/plain": [
       "Index(['Vastuualue', 'Toimittaja nro', 'Toimittajan nimi', 'Tiliryhmä',\n",
       "       'Tili nro', 'Tilin nimi', 'Netto '],\n",
       "      dtype='object')"
      ]
     },
     "execution_count": 42,
     "metadata": {},
     "output_type": "execute_result"
    }
   ],
   "source": [
    "# Katsotaan datakehikon sarakkeet:\n",
    "df_13.columns"
   ]
  },
  {
   "cell_type": "code",
   "execution_count": 86,
   "id": "80aafc83",
   "metadata": {},
   "outputs": [
    {
     "data": {
      "text/html": [
       "<div>\n",
       "<style scoped>\n",
       "    .dataframe tbody tr th:only-of-type {\n",
       "        vertical-align: middle;\n",
       "    }\n",
       "\n",
       "    .dataframe tbody tr th {\n",
       "        vertical-align: top;\n",
       "    }\n",
       "\n",
       "    .dataframe thead th {\n",
       "        text-align: right;\n",
       "    }\n",
       "</style>\n",
       "<table border=\"1\" class=\"dataframe\">\n",
       "  <thead>\n",
       "    <tr style=\"text-align: right;\">\n",
       "      <th></th>\n",
       "      <th>Vuosi</th>\n",
       "      <th>Vastuualue</th>\n",
       "      <th>Toimittajan nimi</th>\n",
       "      <th>Tiliryhmä</th>\n",
       "      <th>Tilin nimi</th>\n",
       "      <th>Nettosumma</th>\n",
       "    </tr>\n",
       "  </thead>\n",
       "  <tbody>\n",
       "    <tr>\n",
       "      <th>0</th>\n",
       "      <td>2013</td>\n",
       "      <td>100 Konsernihallinto</td>\n",
       "      <td>141 Tokmanni Forum Jyvaskyla</td>\n",
       "      <td>Muut toimintakulut</td>\n",
       "      <td>Muut kulut</td>\n",
       "      <td>6.97</td>\n",
       "    </tr>\n",
       "    <tr>\n",
       "      <th>1</th>\n",
       "      <td>2013</td>\n",
       "      <td>100 Konsernihallinto</td>\n",
       "      <td>141 Tokmanni Forum Jyvaskyla</td>\n",
       "      <td>Muut toimintakulut</td>\n",
       "      <td>Muut kulut</td>\n",
       "      <td>5.78</td>\n",
       "    </tr>\n",
       "  </tbody>\n",
       "</table>\n",
       "</div>"
      ],
      "text/plain": [
       "  Vuosi            Vastuualue              Toimittajan nimi  \\\n",
       "0  2013  100 Konsernihallinto  141 Tokmanni Forum Jyvaskyla   \n",
       "1  2013  100 Konsernihallinto  141 Tokmanni Forum Jyvaskyla   \n",
       "\n",
       "            Tiliryhmä  Tilin nimi  Nettosumma  \n",
       "0  Muut toimintakulut  Muut kulut        6.97  \n",
       "1  Muut toimintakulut  Muut kulut        5.78  "
      ]
     },
     "execution_count": 86,
     "metadata": {},
     "output_type": "execute_result"
    }
   ],
   "source": [
    "# Tallennetaan tarvittavat sarakkeet uuteen dataframeen:\n",
    "# Huomataan, että tässäkin sarake 'Netto' on muodossa 'Netto '\n",
    "df_13a = df_13[['Vastuualue', 'Toimittajan nimi', 'Tiliryhmä', 'Tilin nimi', 'Netto ']].copy()\n",
    "\n",
    "# Vaihdetaan sarakkeen 'Netto ' nimeksi 'Nettosumma':\n",
    "df_13a.rename(columns = {'Netto ': 'Nettosumma'}, inplace = True)\n",
    "\n",
    "# Lisätään sarake 'Vuosi':\n",
    "df_13a.insert(loc = 0, column = 'Vuosi', value = '2013')\n",
    "\n",
    "df_13a.head(2)"
   ]
  },
  {
   "cell_type": "code",
   "execution_count": 58,
   "id": "d1453c61-d656-4d8c-a926-738410b0c5dc",
   "metadata": {},
   "outputs": [
    {
     "name": "stdout",
     "output_type": "stream",
     "text": [
      "<class 'pandas.core.frame.DataFrame'>\n",
      "RangeIndex: 207808 entries, 0 to 207807\n",
      "Data columns (total 6 columns):\n",
      " #   Column            Non-Null Count   Dtype  \n",
      "---  ------            --------------   -----  \n",
      " 0   Vuosi             207808 non-null  object \n",
      " 1   Vastuualue        207808 non-null  object \n",
      " 2   Toimittajan nimi  207808 non-null  object \n",
      " 3   Tiliryhmä         207808 non-null  object \n",
      " 4   Tilin nimi        207779 non-null  object \n",
      " 5   Nettosumma        207808 non-null  float64\n",
      "dtypes: float64(1), object(5)\n",
      "memory usage: 9.5+ MB\n"
     ]
    }
   ],
   "source": [
    "df_13a.info()"
   ]
  },
  {
   "cell_type": "markdown",
   "id": "655d03b5-638e-48f3-8161-cd352cf220ea",
   "metadata": {},
   "source": [
    "**2012:**"
   ]
  },
  {
   "cell_type": "code",
   "execution_count": 43,
   "id": "9d9c29ae-7f0b-4caf-83d3-8460f918000e",
   "metadata": {},
   "outputs": [
    {
     "data": {
      "text/plain": [
       "Index(['Vastuualue', 'Toimittaja nro', 'Toimittajan nimi', 'Tiliryhmä',\n",
       "       'Tili nro', 'Tilin nimi', 'Netto '],\n",
       "      dtype='object')"
      ]
     },
     "execution_count": 43,
     "metadata": {},
     "output_type": "execute_result"
    }
   ],
   "source": [
    "# Katsotaan datakehikon sarakkeet:\n",
    "df_12.columns"
   ]
  },
  {
   "cell_type": "code",
   "execution_count": 87,
   "id": "8d343440",
   "metadata": {},
   "outputs": [
    {
     "data": {
      "text/html": [
       "<div>\n",
       "<style scoped>\n",
       "    .dataframe tbody tr th:only-of-type {\n",
       "        vertical-align: middle;\n",
       "    }\n",
       "\n",
       "    .dataframe tbody tr th {\n",
       "        vertical-align: top;\n",
       "    }\n",
       "\n",
       "    .dataframe thead th {\n",
       "        text-align: right;\n",
       "    }\n",
       "</style>\n",
       "<table border=\"1\" class=\"dataframe\">\n",
       "  <thead>\n",
       "    <tr style=\"text-align: right;\">\n",
       "      <th></th>\n",
       "      <th>Vuosi</th>\n",
       "      <th>Vastuualue</th>\n",
       "      <th>Toimittajan nimi</th>\n",
       "      <th>Tiliryhmä</th>\n",
       "      <th>Tilin nimi</th>\n",
       "      <th>Nettosumma</th>\n",
       "    </tr>\n",
       "  </thead>\n",
       "  <tbody>\n",
       "    <tr>\n",
       "      <th>0</th>\n",
       "      <td>2012</td>\n",
       "      <td>100 Konsernihallinto</td>\n",
       "      <td>2weel4e1 KY</td>\n",
       "      <td>Ulkoisten palvelujen ostot</td>\n",
       "      <td>Muut palvelut</td>\n",
       "      <td>2200.0</td>\n",
       "    </tr>\n",
       "    <tr>\n",
       "      <th>1</th>\n",
       "      <td>2012</td>\n",
       "      <td>100 Konsernihallinto</td>\n",
       "      <td>4EVENT OY</td>\n",
       "      <td>Ulkoisten palvelujen ostot</td>\n",
       "      <td>Opetus- ja kulttuuripalvelut</td>\n",
       "      <td>765.0</td>\n",
       "    </tr>\n",
       "  </tbody>\n",
       "</table>\n",
       "</div>"
      ],
      "text/plain": [
       "  Vuosi            Vastuualue Toimittajan nimi                   Tiliryhmä  \\\n",
       "0  2012  100 Konsernihallinto      2weel4e1 KY  Ulkoisten palvelujen ostot   \n",
       "1  2012  100 Konsernihallinto        4EVENT OY  Ulkoisten palvelujen ostot   \n",
       "\n",
       "                     Tilin nimi  Nettosumma  \n",
       "0                 Muut palvelut      2200.0  \n",
       "1  Opetus- ja kulttuuripalvelut       765.0  "
      ]
     },
     "execution_count": 87,
     "metadata": {},
     "output_type": "execute_result"
    }
   ],
   "source": [
    "# Tallennetaan tarvittavat sarakkeet uuteen dataframeen:\n",
    "# Huomataan, että myös tässä sarake 'Netto' on muodossa 'Netto '\n",
    "df_12a = df_12[['Vastuualue', 'Toimittajan nimi', 'Tiliryhmä', 'Tilin nimi', 'Netto ']].copy()\n",
    "\n",
    "# Vaihdetaan sarakkeen 'Netto ' nimeksi 'Nettosumma':\n",
    "df_12a.rename(columns = {'Netto ': 'Nettosumma'}, inplace = True)\n",
    "\n",
    "# Lisätään sarake 'Vuosi':\n",
    "df_12a.insert(loc = 0, column = 'Vuosi', value = '2012')\n",
    "\n",
    "df_12a.head(2)"
   ]
  },
  {
   "cell_type": "code",
   "execution_count": 60,
   "id": "485f9726-c539-4e15-b25f-3ebb9b8d3822",
   "metadata": {},
   "outputs": [
    {
     "name": "stdout",
     "output_type": "stream",
     "text": [
      "<class 'pandas.core.frame.DataFrame'>\n",
      "RangeIndex: 205600 entries, 0 to 205599\n",
      "Data columns (total 6 columns):\n",
      " #   Column            Non-Null Count   Dtype  \n",
      "---  ------            --------------   -----  \n",
      " 0   Vuosi             205600 non-null  object \n",
      " 1   Vastuualue        205600 non-null  object \n",
      " 2   Toimittajan nimi  205600 non-null  object \n",
      " 3   Tiliryhmä         205600 non-null  object \n",
      " 4   Tilin nimi        205600 non-null  object \n",
      " 5   Nettosumma        205600 non-null  float64\n",
      "dtypes: float64(1), object(5)\n",
      "memory usage: 9.4+ MB\n"
     ]
    }
   ],
   "source": [
    "df_12a.info()"
   ]
  },
  {
   "cell_type": "markdown",
   "id": "f5132821",
   "metadata": {},
   "source": [
    "[Takaisin alkuun](#header1)\n",
    "\n",
    "### Datan yhdistäminen <a name=\"subparagraph2\"></a>  \n",
    "\n",
    "Muodostetaan vuosikohtaisista datakehikoista yksi iso datakehikko *'df'*:"
   ]
  },
  {
   "cell_type": "code",
   "execution_count": 88,
   "id": "ef7aa2a9",
   "metadata": {},
   "outputs": [
    {
     "data": {
      "text/html": [
       "<div>\n",
       "<style scoped>\n",
       "    .dataframe tbody tr th:only-of-type {\n",
       "        vertical-align: middle;\n",
       "    }\n",
       "\n",
       "    .dataframe tbody tr th {\n",
       "        vertical-align: top;\n",
       "    }\n",
       "\n",
       "    .dataframe thead th {\n",
       "        text-align: right;\n",
       "    }\n",
       "</style>\n",
       "<table border=\"1\" class=\"dataframe\">\n",
       "  <thead>\n",
       "    <tr style=\"text-align: right;\">\n",
       "      <th></th>\n",
       "      <th>Vuosi</th>\n",
       "      <th>Vastuualue</th>\n",
       "      <th>Toimittajan nimi</th>\n",
       "      <th>Tiliryhmä</th>\n",
       "      <th>Tilin nimi</th>\n",
       "      <th>Nettosumma</th>\n",
       "    </tr>\n",
       "  </thead>\n",
       "  <tbody>\n",
       "    <tr>\n",
       "      <th>131215</th>\n",
       "      <td>2021</td>\n",
       "      <td>Kasvun ja oppimisen palvelut</td>\n",
       "      <td>KIRJAVÄLITYS OY</td>\n",
       "      <td>Ulkoiset aineet, tarvikkeet ja tavarat</td>\n",
       "      <td>Kirjallisuus</td>\n",
       "      <td>495.25</td>\n",
       "    </tr>\n",
       "    <tr>\n",
       "      <th>7376</th>\n",
       "      <td>2021</td>\n",
       "      <td>Sosiaali- ja terveyspalvelut</td>\n",
       "      <td>ELISA OYJ</td>\n",
       "      <td>Ulkoiset palvelujen ostot</td>\n",
       "      <td>ICT-palvelut</td>\n",
       "      <td>0.40</td>\n",
       "    </tr>\n",
       "    <tr>\n",
       "      <th>1380952</th>\n",
       "      <td>2014</td>\n",
       "      <td>1001 Tilapalvelu</td>\n",
       "      <td>SUOMEN ALLASLAITE OY</td>\n",
       "      <td>Ulkoisten palvelujen ostot</td>\n",
       "      <td>Kiinteistöjen ja ulkoalueiden kunnossapito</td>\n",
       "      <td>184.50</td>\n",
       "    </tr>\n",
       "    <tr>\n",
       "      <th>1682616</th>\n",
       "      <td>2013</td>\n",
       "      <td>400 Sosiaali- ja terveyspalvelut</td>\n",
       "      <td>TOTAL KIINTEISTÖPALVELUT OY</td>\n",
       "      <td>Ulkoiset aineet ja tarvikkeet</td>\n",
       "      <td>Siivous- ja puhdistusaineet</td>\n",
       "      <td>12.20</td>\n",
       "    </tr>\n",
       "    <tr>\n",
       "      <th>389486</th>\n",
       "      <td>2019</td>\n",
       "      <td>Kasvun ja oppimisen palvelut</td>\n",
       "      <td>RTK-PALVELU OY</td>\n",
       "      <td>Ulkoisten palvelujen ostot</td>\n",
       "      <td>Muut palvelut</td>\n",
       "      <td>91.62</td>\n",
       "    </tr>\n",
       "  </tbody>\n",
       "</table>\n",
       "</div>"
      ],
      "text/plain": [
       "        Vuosi                        Vastuualue             Toimittajan nimi  \\\n",
       "131215   2021      Kasvun ja oppimisen palvelut              KIRJAVÄLITYS OY   \n",
       "7376     2021      Sosiaali- ja terveyspalvelut                    ELISA OYJ   \n",
       "1380952  2014                  1001 Tilapalvelu         SUOMEN ALLASLAITE OY   \n",
       "1682616  2013  400 Sosiaali- ja terveyspalvelut  TOTAL KIINTEISTÖPALVELUT OY   \n",
       "389486   2019      Kasvun ja oppimisen palvelut               RTK-PALVELU OY   \n",
       "\n",
       "                                      Tiliryhmä  \\\n",
       "131215   Ulkoiset aineet, tarvikkeet ja tavarat   \n",
       "7376                  Ulkoiset palvelujen ostot   \n",
       "1380952              Ulkoisten palvelujen ostot   \n",
       "1682616           Ulkoiset aineet ja tarvikkeet   \n",
       "389486               Ulkoisten palvelujen ostot   \n",
       "\n",
       "                                         Tilin nimi  Nettosumma  \n",
       "131215                                 Kirjallisuus      495.25  \n",
       "7376                                   ICT-palvelut        0.40  \n",
       "1380952  Kiinteistöjen ja ulkoalueiden kunnossapito      184.50  \n",
       "1682616                 Siivous- ja puhdistusaineet       12.20  \n",
       "389486                                Muut palvelut       91.62  "
      ]
     },
     "execution_count": 88,
     "metadata": {},
     "output_type": "execute_result"
    }
   ],
   "source": [
    "df = pd.concat([df_21a, df_20a, df_19a, df_18a, df_17a, df_16a, df_15a, df_14a, df_13a, \\\n",
    "                df_12a], axis=0, ignore_index = True)\n",
    "\n",
    "# Katsotaan datakehikon viisi satunnaista riviä:\n",
    "df.sample(5)"
   ]
  },
  {
   "cell_type": "code",
   "execution_count": 65,
   "id": "c814ee94",
   "metadata": {},
   "outputs": [
    {
     "data": {
      "text/plain": [
       "(1953890, 6)"
      ]
     },
     "execution_count": 65,
     "metadata": {},
     "output_type": "execute_result"
    }
   ],
   "source": [
    "# Tarkastetaan datakehikon muoto:\n",
    "df.shape"
   ]
  },
  {
   "cell_type": "markdown",
   "id": "57477d60",
   "metadata": {},
   "source": [
    "Edellä koko ostolaskuaineisto saatiin tallennettua yhteen datakehikkoon *'df'*. Kyseisessä datakehikossa on nyt vajaa kaksi miljoonaa riviä ja kuusi saraketta, mikä kuulostaa oikealta.   \n",
    "\n",
    "[Takaisin alkuun](#header1)\n",
    "\n",
    "### Tietotyyppien ja arvojen tarkastelu <a name=\"subparagraph3\"></a>  \n",
    "\n",
    "Seuraavaksi sarakkeita tutkitaan tarkemmin ja katsotaan, että niiden tietotyypit ovat oikein. "
   ]
  },
  {
   "cell_type": "code",
   "execution_count": 89,
   "id": "a26d3ef8",
   "metadata": {},
   "outputs": [
    {
     "data": {
      "text/plain": [
       "Vuosi                object\n",
       "Vastuualue           object\n",
       "Toimittajan nimi     object\n",
       "Tiliryhmä            object\n",
       "Tilin nimi           object\n",
       "Nettosumma          float64\n",
       "dtype: object"
      ]
     },
     "execution_count": 89,
     "metadata": {},
     "output_type": "execute_result"
    }
   ],
   "source": [
    "# Tarkastetaan sarakkeiden tietotyypit:\n",
    "df.dtypes"
   ]
  },
  {
   "cell_type": "markdown",
   "id": "90171400",
   "metadata": {},
   "source": [
    "Sarakkeiden tietotyypit ovat kunnossa. Vaikka vuosiluvut ovat numeroita, niitä ei käytetä tässä laskentaan, joten tietotyyppi *'object'* käy hyvin. \n",
    "\n",
    "Katsotaan seuraavaksi, millaisia yksilöllisiä arvoja kussakin sarakkeessa on:"
   ]
  },
  {
   "cell_type": "code",
   "execution_count": 90,
   "id": "ffc3d5bc",
   "metadata": {},
   "outputs": [
    {
     "data": {
      "text/plain": [
       "array(['2021', '2020', '2019', '2018', '2017', '2016', '2015', '2014',\n",
       "       '2013', '2012'], dtype=object)"
      ]
     },
     "execution_count": 90,
     "metadata": {},
     "output_type": "execute_result"
    }
   ],
   "source": [
    "pd.unique(df['Vuosi'])"
   ]
  },
  {
   "cell_type": "code",
   "execution_count": 91,
   "id": "c546ed9f",
   "metadata": {},
   "outputs": [
    {
     "data": {
      "text/plain": [
       "array(['Konsernihallinto', 'Kaupunkirakenne',\n",
       "       'Sosiaali- ja terveyspalvelut', 'Kasvun ja oppimisen palvelut',\n",
       "       'Kulttuuri- ja liikuntapalvelut', 'Kulttuuripalvelut',\n",
       "       'Liikuntapalvelut', 'Perusturva', 'Tilapalvelu-liikelaitos',\n",
       "       'Keski-Suomen pelastuslaitos-liikelaitos',\n",
       "       'Kylän Kattaus-liikelaitos', nan,\n",
       "       'Altek Aluetekniikka-liikelaitos', 'K-S Pelastuslaitos',\n",
       "       'Kaupunkirakennepalvelut', 'Jyväskylän Tilapalvelu',\n",
       "       'Altek Aluetekniikka', 'Kylän Kattaus', 'K-S pelastuslaitos',\n",
       "       '100, Konsernihallinto', '1001, Jyväskylän Tilapalvelu',\n",
       "       '1002, Työterveys Aalto', '1003, K-S Pelastuslaitos',\n",
       "       '1004, Kylän Kattaus', '1005, Altek Aluetekniikka',\n",
       "       '1007, Talouskeskus-liikelaitos',\n",
       "       '400, Sosiaali- ja terveyspalvelut',\n",
       "       '500, Kasvun ja oppimisen palvelut', '600, Kulttuuripalvelut',\n",
       "       '700, Liikuntapalvelut', '800, Kaupunkirakennepalvelut',\n",
       "       '900, Konsernihallinto /Kankaan alue', '1007, Talouskeskus',\n",
       "       'Kapunkirakenteen toimiala', 'Kaupunkirakenteen toimiala',\n",
       "       'Talouskeskus', 'Tilapalvelu', 'Työterveys Aalto',\n",
       "       '100 Konsernihallinto', '1001 Tilapalvelu',\n",
       "       '1002 Työterveys Aalto', '1003 K-S Pelastulaitos',\n",
       "       '1004 Kylän Kattaus', '1005 Altek Aluetekniikka',\n",
       "       '1007 Talouskeskus', '400 Sosiaali- ja terveyspalvelut',\n",
       "       '500 Kasvun- ja oppimisenpalvelut', '600 Kulttuuripalvelut',\n",
       "       '700 Liikuntapalvelut', '800 Kaupunkirakennepalvelut',\n",
       "       '1003 K-S Pelastuslaitos', '800 Kaupunkirakennepalvelu'],\n",
       "      dtype=object)"
      ]
     },
     "execution_count": 91,
     "metadata": {},
     "output_type": "execute_result"
    }
   ],
   "source": [
    "pd.unique(df['Vastuualue'])"
   ]
  },
  {
   "cell_type": "markdown",
   "id": "7b9a7b4d",
   "metadata": {},
   "source": [
    "Sarakkeen *'Vastuualue'* arvoista havaitaan, että vastuualueiden nimeämiskäytäntö on mitä ilmeisimmin muuttunut vuosien varrella. Voidaan olettaa, että esimerkiksi *'Konsernihallinto'* ja *'100, Konsernihallinto'* ja *'Liikuntapalvelut'* sekä *'700 Liikuntapalvelut'* ovat samoja vastuualueita.    \n",
    "\n",
    "Siivotaan tätä saraketta nimeämällä arvot yhdenmukaisesti ja poistamalla numerotunnukset nimien edestä."
   ]
  },
  {
   "cell_type": "code",
   "execution_count": 92,
   "id": "2a323f99",
   "metadata": {},
   "outputs": [],
   "source": [
    "# Muutetaan sarakkeen 'Vastuualue' arvot yhtenäisemmiksi:\n",
    "df['Vastuualue'].replace({'Kaupunkirakenne': 'Kaupunkirakennepalvelut',\n",
    "                          'Tilapalvelu-liikelaitos': 'Jyväskylän Tilapalvelu',\n",
    "                          'Keski-Suomen pelastuslaitos-liikelaitos': 'K-S Pelastuslaitos',\n",
    "                          'Kylän Kattaus-liikelaitos': 'Kylän Kattaus',\n",
    "                          'Altek Aluetekniikka-liikelaitos': 'Altek Aluetekniikka', \n",
    "                          'K-S pelastuslaitos': 'K-S Pelastuslaitos',\n",
    "                          '100, Konsernihallinto': 'Konsernihallinto',\n",
    "                          '1001, Jyväskylän Tilapalvelu': 'Jyväskylän Tilapalvelu',\n",
    "                          '1002, Työterveys Aalto': 'Työterveys Aalto',\n",
    "                          '1003, K-S Pelastuslaitos': 'K-S Pelastuslaitos',\n",
    "                          '1004, Kylän Kattaus': 'Kylän Kattaus',\n",
    "                          '1005, Altek Aluetekniikka': 'Altek Aluetekniikka',\n",
    "                          '1007, Talouskeskus-liikelaitos': 'Talouskeskus',\n",
    "                          '400, Sosiaali- ja terveyspalvelut': 'Sosiaali- ja terveyspalvelut',\n",
    "                          '500, Kasvun ja oppimisen palvelut': 'Kasvun ja oppimisen palvelut', \n",
    "                          '600, Kulttuuripalvelut': 'Kulttuuripalvelut',\n",
    "                          '700, Liikuntapalvelut': 'Liikuntapalvelut', \n",
    "                          '800, Kaupunkirakennepalvelut': 'Kaupunkirakennepalvelut',\n",
    "                          '900, Konsernihallinto /Kankaan alue': 'Konsernihallinto / Kankaan alue',\n",
    "                          '1007, Talouskeskus': 'Talouskeskus',\n",
    "                          'Kapunkirakenteen toimiala': 'Kaupunkirakennepalvelut', \n",
    "                          'Kaupunkirakenteen toimiala': 'Kaupunkirakennepalvelut',\n",
    "                          'Tilapalvelu': 'Jyväskylän Tilapalvelu',\n",
    "                          '100 Konsernihallinto': 'Konsernihallinto', \n",
    "                          '1001 Tilapalvelu': 'Jyväskylän Tilapalvelu',\n",
    "                          '1002 Työterveys Aalto': 'Työterveys Aalto', \n",
    "                          '1003 K-S Pelastulaitos': 'K-S Pelastuslaitos',\n",
    "                          '1004 Kylän Kattaus': 'Kylän Kattaus', \n",
    "                          '1005 Altek Aluetekniikka': 'Altek Aluetekniikka',\n",
    "                          '1007 Talouskeskus': 'Talouskeskus', \n",
    "                          '400 Sosiaali- ja terveyspalvelut': 'Sosiaali- ja terveyspalvelut',\n",
    "                          '500 Kasvun- ja oppimisenpalvelut': 'Kasvun ja oppimisen palvelut', \n",
    "                          '600 Kulttuuripalvelut': 'Kulttuuripalvelut',\n",
    "                          '700 Liikuntapalvelut': 'Liikuntapalvelut', \n",
    "                          '800 Kaupunkirakennepalvelut': 'Kaupunkirakennepalvelut',\n",
    "                          '1003 K-S Pelastuslaitos': 'K-S Pelastuslaitos', \n",
    "                          '800 Kaupunkirakennepalvelu': 'Kaupunkirakennepalvelut'\n",
    "                         }, inplace = True)"
   ]
  },
  {
   "cell_type": "code",
   "execution_count": 93,
   "id": "3dc60a15",
   "metadata": {},
   "outputs": [
    {
     "data": {
      "text/plain": [
       "array(['Konsernihallinto', 'Kaupunkirakennepalvelut',\n",
       "       'Sosiaali- ja terveyspalvelut', 'Kasvun ja oppimisen palvelut',\n",
       "       'Kulttuuri- ja liikuntapalvelut', 'Kulttuuripalvelut',\n",
       "       'Liikuntapalvelut', 'Perusturva', 'Jyväskylän Tilapalvelu',\n",
       "       'K-S Pelastuslaitos', 'Kylän Kattaus', nan, 'Altek Aluetekniikka',\n",
       "       'Työterveys Aalto', 'Talouskeskus',\n",
       "       'Konsernihallinto / Kankaan alue'], dtype=object)"
      ]
     },
     "execution_count": 93,
     "metadata": {},
     "output_type": "execute_result"
    }
   ],
   "source": [
    "pd.unique(df['Vastuualue'])"
   ]
  },
  {
   "cell_type": "markdown",
   "id": "598d46ee",
   "metadata": {},
   "source": [
    "Nyt näyttää paremmalta. Edelleen sarake *'Vastuualue'* sisältää arvon *'Kulttuuri- ja liikuntapalvelut'*, mutta näillä tiedoin emme voi jaotella sitä tarkemmin sarakkeisiin *'Kulttuuripalvelut'* ja *'Liikuntapalvelut'*.   \n",
    "\n",
    "Katsotaan seuraavaksi sarakkeen *'Tiliryhmä'* arvoja:"
   ]
  },
  {
   "cell_type": "code",
   "execution_count": 94,
   "id": "bcf9eaf0",
   "metadata": {},
   "outputs": [
    {
     "data": {
      "text/plain": [
       "array(['Ulkoiset palvelujen ostot',\n",
       "       'Ulkoiset aineet, tarvikkeet ja tavarat',\n",
       "       'Ulkoiset muut toimintakulut', 'Ulkoiset vuokrakulut',\n",
       "       'Henkilöstökorv. ja muut henk.menojen korj.erät',\n",
       "       'Muut henkilösivukulut', 'Asiakaspalvelujen ostot',\n",
       "       'Sisäiset palvelujen ostot', 'Sisäiset vuokrakulut', nan,\n",
       "       'Ulkoisten palvelujen ostot', 'Ulkoiset aineet ja tarvikkeet',\n",
       "       'Valmiin käyttöomaisuuden ostot', 'Muut toimintakulut',\n",
       "       'Aineet, tarvikkeet ja tavarat', 'Palvelujen osto',\n",
       "       'Palvelujen ostot', 'Aineer, tarvikkeet ja tavarat'], dtype=object)"
      ]
     },
     "execution_count": 94,
     "metadata": {},
     "output_type": "execute_result"
    }
   ],
   "source": [
    "pd.unique(df['Tiliryhmä'])"
   ]
  },
  {
   "cell_type": "markdown",
   "id": "27f83b1d",
   "metadata": {},
   "source": [
    "Sarake *'Tiliryhmä'* sisältää arvot *'Aineet, tarvikkeet ja tavarat'* ja *'Aineer, tarvikkeet ja tavarat'*, tässä lienee kirjoitusvirhe. Samoin *'Palvelujen osto'* ja *'Palvelujen ostot'*, *'Ulkoiset aineet ja tarvikkeet'* ja *'Ulkoiset aineet, tarvikkeet ja tavarat'* sekä *'Ulkoiset palvelujen ostot'* ja *'Ulkoisten palvelujen ostot'* ovat todennäköisesti sama tiliryhmä. Korjataan nämä."
   ]
  },
  {
   "cell_type": "code",
   "execution_count": 95,
   "id": "140e77a6",
   "metadata": {},
   "outputs": [
    {
     "data": {
      "text/plain": [
       "array(['Ulkoisten palvelujen ostot',\n",
       "       'Ulkoiset aineet, tarvikkeet ja tavarat',\n",
       "       'Ulkoiset muut toimintakulut', 'Ulkoiset vuokrakulut',\n",
       "       'Henkilöstökorv. ja muut henk.menojen korj.erät',\n",
       "       'Muut henkilösivukulut', 'Asiakaspalvelujen ostot',\n",
       "       'Sisäiset palvelujen ostot', 'Sisäiset vuokrakulut', nan,\n",
       "       'Valmiin käyttöomaisuuden ostot', 'Muut toimintakulut',\n",
       "       'Aineet, tarvikkeet ja tavarat', 'Palvelujen ostot'], dtype=object)"
      ]
     },
     "execution_count": 95,
     "metadata": {},
     "output_type": "execute_result"
    }
   ],
   "source": [
    "# Muutetaan arvojen nimiä:\n",
    "df['Tiliryhmä'].replace({'Aineer, tarvikkeet ja tavarat': 'Aineet, tarvikkeet ja tavarat',\n",
    "                         'Palvelujen osto': 'Palvelujen ostot',\n",
    "                         'Ulkoiset aineet ja tarvikkeet': 'Ulkoiset aineet, tarvikkeet ja tavarat',\n",
    "                         'Ulkoiset palvelujen ostot': 'Ulkoisten palvelujen ostot'}, inplace = True)\n",
    "\n",
    "pd.unique(df['Tiliryhmä'])"
   ]
  },
  {
   "cell_type": "markdown",
   "id": "c2ddb193",
   "metadata": {},
   "source": [
    "Näyttää asianmukaiselta. Tutkitaan seuraavaksi saraketta *'Tilin nimi'*:"
   ]
  },
  {
   "cell_type": "code",
   "execution_count": 96,
   "id": "ebf93c17",
   "metadata": {},
   "outputs": [
    {
     "data": {
      "text/plain": [
       "array(['Asiantuntijapalvelut', 'Toimistopalvelut', 'ICT-palvelut',\n",
       "       'Painatukset, ilmoitukset ja markkinointi',\n",
       "       'Posti- ja kuriiripalvelut',\n",
       "       'Koneiden, kaluston ja laitteiden rakentamis- ja ku',\n",
       "       'Majoitus- ja ravitsemispalvelut',\n",
       "       'Koulutus- ja kulttuuripalvelut', 'Muut palvelut',\n",
       "       'Toimisto- ja koulutarvikkeet', 'Kirjallisuus', 'Muu materiaali',\n",
       "       'Muut kulut', 'Muut yhteistoimintaosuudet', 'Jäsenmaksut',\n",
       "       'Vakuutukset', 'Puhtaanapito- ja pesulapalvelut',\n",
       "       'Matkustus- ja kuljetuspalvelut', 'Poltto- ja voiteluaineet',\n",
       "       'Kalusto', 'Muut vuokrat', 'Elintarvikkeet',\n",
       "       'Sosiaali- ja terveyspalvelut', 'Sairausvakuutuskorvaukset',\n",
       "       'SV-päivärahojen sotu-maksut',\n",
       "       'Rakennusten ja alueiden rakentamis- ja kunnossapit',\n",
       "       'Rakennusmateriaali', 'Vaatteisto', 'Asiakaspalvelujen ostot',\n",
       "       'Rahoitus- ja pankkipalvelut', 'Puhdistusaineet ja tarvikkeet',\n",
       "       'Sähkö ja kaasu', 'Työvoiman vuokraus', 'Hoitotarvikkeet',\n",
       "       'Lääkkeet', 'Varaston hintaerot', 'Pienet hintaerot',\n",
       "       'Muut henkilöstömenojen korjauserät',\n",
       "       'Koneiden ja laitteiden kunnossapito',\n",
       "       'Kiinteistöjen ja ulkoalueiden kunnossapito', 'Vesi',\n",
       "       'Sis.koulutus- ja kulttuuripalvelut', 'Jätehuoltopalvelut',\n",
       "       'Kiinteistöjen ja ulkoalueiden hoito', 'Muut koneet ja kalusto',\n",
       "       'Jätevesimaksut', 'Lämmitys', 'Tipa menot sopimusvuokrat',\n",
       "       'Koulutuskorvaukset työnantajille', 'Maa-ja vesialueiden hankinta',\n",
       "       'Investoinnit maahan', 'Muut aineettomat hyödykkeet',\n",
       "       'Tietokonelaitteet', 'Muut aineelliset hyödykkeet',\n",
       "       'Kuljetusvälineet', 'Tietokoneohjelmistot', 'Puhtaanapitopalvelut',\n",
       "       'Koneiden ja laitteiden huolto', 'Vapaapalokuntien menot',\n",
       "       'Viestintälaitteet', nan, 'Aktivoidut palvelujen ostot',\n",
       "       'Pilaantuneet maat', 'Kiinteät rakenteet ja laitteet',\n",
       "       'Osuus verotuskustannuksiin', 'Muut rakennukset',\n",
       "       'Majoitus- ja revitsemispalvelut', 'Rah. ja pankkipalv.',\n",
       "       'Rakennusten ja alueiden rakentamis- ja kunnossapito',\n",
       "       'Toimisto- ja asiantuntijapalvelut', 'Lääkkeet ja hoitotarvikkeet',\n",
       "       'Myytävät tuotteet -', 'Muut aineelliset hyö',\n",
       "       'Koneiden, kaluston ja laitteiden rakentamis- ja ku ',\n",
       "       'Asuinrakennukset', 'Hävikki', 'Lämmitys, sähkö ja vesi',\n",
       "       'Toimisto-, pankki- ja asiantuntijapalvelut',\n",
       "       'Opetus- ja kulttuuripalvelut', 'Painatukset ja ilmoitukset',\n",
       "       'Posti- ja telepalvelut', 'Siivous- ja puhdistusaineet', 'Sähkö',\n",
       "       'Maa-ja vesialueet', 'Osakkeet ja osuudet', 43,\n",
       "       'Rakennusten ja huoneistojen vuokrat', 'Myytävät tuotteet - tili'],\n",
       "      dtype=object)"
      ]
     },
     "execution_count": 96,
     "metadata": {},
     "output_type": "execute_result"
    }
   ],
   "source": [
    "pd.unique(df['Tilin nimi'])"
   ]
  },
  {
   "cell_type": "markdown",
   "id": "660e3fdf",
   "metadata": {},
   "source": [
    "Tilien nimissä on erikseen *'Rakennusten ja alueiden rakentamis- ja kunnossapit'* ja *'Rakennusten ja alueiden rakentamis- ja kunnossapito'*, *'Koneiden, kaluston ja laitteiden rakentamis- ja ku'* ja *'Koneiden, kaluston ja laitteiden rakentamis- ja ku '* sekä *'Majoitus- ja revitsemispalvelut'* ja *'Majoitus- ja ravitsemispalvelut'*. Korjataan nämä samannimisiksi.     "
   ]
  },
  {
   "cell_type": "code",
   "execution_count": 97,
   "id": "dc6ea3b3",
   "metadata": {},
   "outputs": [
    {
     "data": {
      "text/plain": [
       "array(['Asiantuntijapalvelut', 'Toimistopalvelut', 'ICT-palvelut',\n",
       "       'Painatukset, ilmoitukset ja markkinointi',\n",
       "       'Posti- ja kuriiripalvelut',\n",
       "       'Koneiden, kaluston ja laitteiden rakentamis- ja ku',\n",
       "       'Majoitus- ja ravitsemispalvelut',\n",
       "       'Koulutus- ja kulttuuripalvelut', 'Muut palvelut',\n",
       "       'Toimisto- ja koulutarvikkeet', 'Kirjallisuus', 'Muu materiaali',\n",
       "       'Muut kulut', 'Muut yhteistoimintaosuudet', 'Jäsenmaksut',\n",
       "       'Vakuutukset', 'Puhtaanapito- ja pesulapalvelut',\n",
       "       'Matkustus- ja kuljetuspalvelut', 'Poltto- ja voiteluaineet',\n",
       "       'Kalusto', 'Muut vuokrat', 'Elintarvikkeet',\n",
       "       'Sosiaali- ja terveyspalvelut', 'Sairausvakuutuskorvaukset',\n",
       "       'SV-päivärahojen sotu-maksut',\n",
       "       'Rakennusten ja alueiden rakentamis- ja kunnossapito',\n",
       "       'Rakennusmateriaali', 'Vaatteisto', 'Asiakaspalvelujen ostot',\n",
       "       'Rahoitus- ja pankkipalvelut', 'Puhdistusaineet ja tarvikkeet',\n",
       "       'Sähkö ja kaasu', 'Työvoiman vuokraus', 'Hoitotarvikkeet',\n",
       "       'Lääkkeet', 'Varaston hintaerot', 'Pienet hintaerot',\n",
       "       'Muut henkilöstömenojen korjauserät',\n",
       "       'Koneiden ja laitteiden kunnossapito',\n",
       "       'Kiinteistöjen ja ulkoalueiden kunnossapito', 'Vesi',\n",
       "       'Sis.koulutus- ja kulttuuripalvelut', 'Jätehuoltopalvelut',\n",
       "       'Kiinteistöjen ja ulkoalueiden hoito', 'Muut koneet ja kalusto',\n",
       "       'Jätevesimaksut', 'Lämmitys', 'Tipa menot sopimusvuokrat',\n",
       "       'Koulutuskorvaukset työnantajille', 'Maa-ja vesialueiden hankinta',\n",
       "       'Investoinnit maahan', 'Muut aineettomat hyödykkeet',\n",
       "       'Tietokonelaitteet', 'Muut aineelliset hyödykkeet',\n",
       "       'Kuljetusvälineet', 'Tietokoneohjelmistot', 'Puhtaanapitopalvelut',\n",
       "       'Koneiden ja laitteiden huolto', 'Vapaapalokuntien menot',\n",
       "       'Viestintälaitteet', nan, 'Aktivoidut palvelujen ostot',\n",
       "       'Pilaantuneet maat', 'Kiinteät rakenteet ja laitteet',\n",
       "       'Osuus verotuskustannuksiin', 'Muut rakennukset',\n",
       "       'Rah. ja pankkipalv.', 'Toimisto- ja asiantuntijapalvelut',\n",
       "       'Lääkkeet ja hoitotarvikkeet', 'Myytävät tuotteet -',\n",
       "       'Muut aineelliset hyö', 'Asuinrakennukset', 'Hävikki',\n",
       "       'Lämmitys, sähkö ja vesi',\n",
       "       'Toimisto-, pankki- ja asiantuntijapalvelut',\n",
       "       'Opetus- ja kulttuuripalvelut', 'Painatukset ja ilmoitukset',\n",
       "       'Posti- ja telepalvelut', 'Siivous- ja puhdistusaineet', 'Sähkö',\n",
       "       'Maa-ja vesialueet', 'Osakkeet ja osuudet', 43,\n",
       "       'Rakennusten ja huoneistojen vuokrat', 'Myytävät tuotteet - tili'],\n",
       "      dtype=object)"
      ]
     },
     "execution_count": 97,
     "metadata": {},
     "output_type": "execute_result"
    }
   ],
   "source": [
    "# Muutetaan arvojen nimiä:\n",
    "df['Tilin nimi'].replace({'Rakennusten ja alueiden rakentamis- ja kunnossapit': 'Rakennusten ja alueiden rakentamis- ja kunnossapito',\n",
    "                          'Koneiden, kaluston ja laitteiden rakentamis- ja ku ': 'Koneiden, kaluston ja laitteiden rakentamis- ja ku',\n",
    "                          'Majoitus- ja revitsemispalvelut': 'Majoitus- ja ravitsemispalvelut'}, inplace = True)\n",
    "\n",
    "pd.unique(df['Tilin nimi'])"
   ]
  },
  {
   "cell_type": "markdown",
   "id": "2e60d69f",
   "metadata": {},
   "source": [
    "Sarakkeessa *'Tilin nimi'* arvo *43* ei kuulosta oikealta - mikähän se on? Tutkitaan, millaisia arvoja on riveillä, jossa tilin nimenä on *'43'*:"
   ]
  },
  {
   "cell_type": "code",
   "execution_count": 98,
   "id": "2e4511a1",
   "metadata": {},
   "outputs": [
    {
     "name": "stdout",
     "output_type": "stream",
     "text": [
      "        Vuosi                    Vastuualue Toimittajan nimi  \\\n",
      "1661884  2013  Sosiaali- ja terveyspalvelut   MAINIO VIRE OY   \n",
      "1661931  2013  Sosiaali- ja terveyspalvelut   MAINIO VIRE OY   \n",
      "1662126  2013  Sosiaali- ja terveyspalvelut   MAINIO VIRE OY   \n",
      "\n",
      "                          Tiliryhmä Tilin nimi  Nettosumma  \n",
      "1661884  Ulkoisten palvelujen ostot         43        30.4  \n",
      "1661931  Ulkoisten palvelujen ostot         43        30.4  \n",
      "1662126  Ulkoisten palvelujen ostot         43        30.4  \n"
     ]
    }
   ],
   "source": [
    "print(df.loc[df['Tilin nimi'].isin([43])])"
   ]
  },
  {
   "cell_type": "markdown",
   "id": "40983d0c",
   "metadata": {},
   "source": [
    "Mitä ilmeisimmin nämä ostotiedot on kirjattu väärän nimiselle tilille. Riveissä saattaa olla myös dublikaatteja, mutta tämän perusteella sitä ei voi varmuudella tietää - tästä pitää kysyä aineiston tuntevalta henkilöltä. Jyväskylän kaupungin taloussuunnittelupäällikkö Erikka Saastamoinen kertoi, että kyseiset kirjauset on tehty oikealle tilille, mutta tilin nimi on vahingossa mennyt väärin. Tässä tapauksessa arvon *43* sijaan tilin nimenä pitäisi olla *'Asiakaspalvelujen ostot'*. Korjataan tämä datakehikkoon:"
   ]
  },
  {
   "cell_type": "code",
   "execution_count": 99,
   "id": "db2ec612",
   "metadata": {},
   "outputs": [
    {
     "data": {
      "text/plain": [
       "array(['Asiantuntijapalvelut', 'Toimistopalvelut', 'ICT-palvelut',\n",
       "       'Painatukset, ilmoitukset ja markkinointi',\n",
       "       'Posti- ja kuriiripalvelut',\n",
       "       'Koneiden, kaluston ja laitteiden rakentamis- ja ku',\n",
       "       'Majoitus- ja ravitsemispalvelut',\n",
       "       'Koulutus- ja kulttuuripalvelut', 'Muut palvelut',\n",
       "       'Toimisto- ja koulutarvikkeet', 'Kirjallisuus', 'Muu materiaali',\n",
       "       'Muut kulut', 'Muut yhteistoimintaosuudet', 'Jäsenmaksut',\n",
       "       'Vakuutukset', 'Puhtaanapito- ja pesulapalvelut',\n",
       "       'Matkustus- ja kuljetuspalvelut', 'Poltto- ja voiteluaineet',\n",
       "       'Kalusto', 'Muut vuokrat', 'Elintarvikkeet',\n",
       "       'Sosiaali- ja terveyspalvelut', 'Sairausvakuutuskorvaukset',\n",
       "       'SV-päivärahojen sotu-maksut',\n",
       "       'Rakennusten ja alueiden rakentamis- ja kunnossapito',\n",
       "       'Rakennusmateriaali', 'Vaatteisto', 'Asiakaspalvelujen ostot',\n",
       "       'Rahoitus- ja pankkipalvelut', 'Puhdistusaineet ja tarvikkeet',\n",
       "       'Sähkö ja kaasu', 'Työvoiman vuokraus', 'Hoitotarvikkeet',\n",
       "       'Lääkkeet', 'Varaston hintaerot', 'Pienet hintaerot',\n",
       "       'Muut henkilöstömenojen korjauserät',\n",
       "       'Koneiden ja laitteiden kunnossapito',\n",
       "       'Kiinteistöjen ja ulkoalueiden kunnossapito', 'Vesi',\n",
       "       'Sis.koulutus- ja kulttuuripalvelut', 'Jätehuoltopalvelut',\n",
       "       'Kiinteistöjen ja ulkoalueiden hoito', 'Muut koneet ja kalusto',\n",
       "       'Jätevesimaksut', 'Lämmitys', 'Tipa menot sopimusvuokrat',\n",
       "       'Koulutuskorvaukset työnantajille', 'Maa-ja vesialueiden hankinta',\n",
       "       'Investoinnit maahan', 'Muut aineettomat hyödykkeet',\n",
       "       'Tietokonelaitteet', 'Muut aineelliset hyödykkeet',\n",
       "       'Kuljetusvälineet', 'Tietokoneohjelmistot', 'Puhtaanapitopalvelut',\n",
       "       'Koneiden ja laitteiden huolto', 'Vapaapalokuntien menot',\n",
       "       'Viestintälaitteet', nan, 'Aktivoidut palvelujen ostot',\n",
       "       'Pilaantuneet maat', 'Kiinteät rakenteet ja laitteet',\n",
       "       'Osuus verotuskustannuksiin', 'Muut rakennukset',\n",
       "       'Rah. ja pankkipalv.', 'Toimisto- ja asiantuntijapalvelut',\n",
       "       'Lääkkeet ja hoitotarvikkeet', 'Myytävät tuotteet -',\n",
       "       'Muut aineelliset hyö', 'Asuinrakennukset', 'Hävikki',\n",
       "       'Lämmitys, sähkö ja vesi',\n",
       "       'Toimisto-, pankki- ja asiantuntijapalvelut',\n",
       "       'Opetus- ja kulttuuripalvelut', 'Painatukset ja ilmoitukset',\n",
       "       'Posti- ja telepalvelut', 'Siivous- ja puhdistusaineet', 'Sähkö',\n",
       "       'Maa-ja vesialueet', 'Osakkeet ja osuudet',\n",
       "       'Rakennusten ja huoneistojen vuokrat', 'Myytävät tuotteet - tili'],\n",
       "      dtype=object)"
      ]
     },
     "execution_count": 99,
     "metadata": {},
     "output_type": "execute_result"
    }
   ],
   "source": [
    "df['Tilin nimi'].replace({43: 'Asiakaspalvelujen ostot'}, inplace = True)\n",
    "\n",
    "pd.unique(df['Tilin nimi'])"
   ]
  },
  {
   "cell_type": "markdown",
   "id": "79fd3a25-6fac-4646-a52e-c2fbae56bf4c",
   "metadata": {},
   "source": [
    "Tarkastetaan seuraavaksi, millaisia arvoja sarake *'Nettosumma'* saa:"
   ]
  },
  {
   "cell_type": "code",
   "execution_count": 100,
   "id": "4b9091cf-4758-4767-bb5d-4df7f9c2d083",
   "metadata": {},
   "outputs": [
    {
     "name": "stdout",
     "output_type": "stream",
     "text": [
      "Minimi:  -9078435.57\n",
      "Maksimi:  444548729.06997675\n"
     ]
    }
   ],
   "source": [
    "print('Minimi: ', df['Nettosumma'].min())\n",
    "print('Maksimi: ', df['Nettosumma'].max())"
   ]
  },
  {
   "cell_type": "markdown",
   "id": "122e0ae4-5032-47df-aa8e-9d7dc2810643",
   "metadata": {},
   "source": [
    "Oston nettosumma voi siis olla negatiivinen, jolloin kyseessä on hyvityslasku. Tutkitaan, kuinka monta tällaista riviä aineisto sisältää:"
   ]
  },
  {
   "cell_type": "code",
   "execution_count": 101,
   "id": "c6ac3da9-9d8d-4afd-8253-b14146f1e840",
   "metadata": {},
   "outputs": [
    {
     "name": "stdout",
     "output_type": "stream",
     "text": [
      "Alle 0 e ostot (hyvityslaskut):  23859\n"
     ]
    }
   ],
   "source": [
    "print('Alle 0 e ostot (hyvityslaskut): ', len(df[df['Nettosumma'] < 0]))"
   ]
  },
  {
   "cell_type": "markdown",
   "id": "c5293ce0",
   "metadata": {},
   "source": [
    "Hyvityslaskuja on vajaa 24 000 kappaletta, mikä on tässä aineistossa melko vähäinen määrä. Pidetään nämä rivit aineistossa, mutta ollaan tietoisia niistä.   \n",
    "\n",
    "Sarakkeen *'Toimittajan nimi'* arvoja ei ole tarpeen käydä tässä läpi.\n",
    "\n",
    "[Takaisin alkuun](#header1)"
   ]
  },
  {
   "cell_type": "markdown",
   "id": "bca46021",
   "metadata": {},
   "source": [
    "### Puuttuvien arvojen käsittely <a name=\"subparagraph4\"></a> \n",
    "\n",
    "Aiemmassa tarkastelussa havaittiin, että sarakkeissa on puuttuvia (*nan*) arvoja. Tarkastetaan ensin, paljonko näitä kussakin sarakkeessa on:"
   ]
  },
  {
   "cell_type": "code",
   "execution_count": 102,
   "id": "24fee79f",
   "metadata": {},
   "outputs": [
    {
     "name": "stdout",
     "output_type": "stream",
     "text": [
      "Puuttuvia arvoja sarakkeessa 'Vuosi':  0\n",
      "Puuttuvia arvoja sarakkeessa 'Vastuualue':  3\n",
      "Puuttuvia arvoja sarakkeessa 'Toimittajan nimi':  3\n",
      "Puuttuvia arvoja sarakkeessa 'Tiliryhmä':  3\n",
      "Puuttuvia arvoja sarakkeessa 'Tilin nimi':  33\n",
      "Puuttuvia arvoja sarakkeessa 'Nettosumma':  0\n"
     ]
    }
   ],
   "source": [
    "print('Puuttuvia arvoja sarakkeessa \\'Vuosi\\': ', df['Vuosi'].isna().sum())\n",
    "print('Puuttuvia arvoja sarakkeessa \\'Vastuualue\\': ', df['Vastuualue'].isna().sum())\n",
    "print('Puuttuvia arvoja sarakkeessa \\'Toimittajan nimi\\': ', df['Toimittajan nimi'].isna().sum())\n",
    "print('Puuttuvia arvoja sarakkeessa \\'Tiliryhmä\\': ', df['Tiliryhmä'].isna().sum())\n",
    "print('Puuttuvia arvoja sarakkeessa \\'Tilin nimi\\': ', df['Tilin nimi'].isna().sum())\n",
    "print('Puuttuvia arvoja sarakkeessa \\'Nettosumma\\': ', df['Nettosumma'].isna().sum())"
   ]
  },
  {
   "cell_type": "markdown",
   "id": "1973f902",
   "metadata": {},
   "source": [
    "Selvitetään, millasta dataa puuttuvia arvoja sisältävät rivit sisältävät:"
   ]
  },
  {
   "cell_type": "code",
   "execution_count": 103,
   "id": "1571d267",
   "metadata": {},
   "outputs": [
    {
     "name": "stdout",
     "output_type": "stream",
     "text": [
      "        Vuosi                    Vastuualue  \\\n",
      "223294   2021                           NaN   \n",
      "351998   2020                           NaN   \n",
      "718418   2018                           NaN   \n",
      "1538049  2014       Kaupunkirakennepalvelut   \n",
      "1548645  2013        Jyväskylän Tilapalvelu   \n",
      "1548646  2013        Jyväskylän Tilapalvelu   \n",
      "1548647  2013        Jyväskylän Tilapalvelu   \n",
      "1548648  2013        Jyväskylän Tilapalvelu   \n",
      "1548649  2013        Jyväskylän Tilapalvelu   \n",
      "1548766  2013        Jyväskylän Tilapalvelu   \n",
      "1548767  2013        Jyväskylän Tilapalvelu   \n",
      "1548770  2013        Jyväskylän Tilapalvelu   \n",
      "1548772  2013        Jyväskylän Tilapalvelu   \n",
      "1548773  2013        Jyväskylän Tilapalvelu   \n",
      "1548774  2013        Jyväskylän Tilapalvelu   \n",
      "1548775  2013        Jyväskylän Tilapalvelu   \n",
      "1548776  2013        Jyväskylän Tilapalvelu   \n",
      "1548777  2013        Jyväskylän Tilapalvelu   \n",
      "1555826  2013        Jyväskylän Tilapalvelu   \n",
      "1564290  2013        Jyväskylän Tilapalvelu   \n",
      "1564300  2013        Jyväskylän Tilapalvelu   \n",
      "1575450  2013        Jyväskylän Tilapalvelu   \n",
      "1575451  2013        Jyväskylän Tilapalvelu   \n",
      "1575452  2013        Jyväskylän Tilapalvelu   \n",
      "1575453  2013        Jyväskylän Tilapalvelu   \n",
      "1579538  2013        Jyväskylän Tilapalvelu   \n",
      "1579541  2013        Jyväskylän Tilapalvelu   \n",
      "1586688  2013            K-S Pelastuslaitos   \n",
      "1594314  2013            K-S Pelastuslaitos   \n",
      "1616231  2013           Altek Aluetekniikka   \n",
      "1666196  2013  Sosiaali- ja terveyspalvelut   \n",
      "1678866  2013  Sosiaali- ja terveyspalvelut   \n",
      "1688397  2013  Sosiaali- ja terveyspalvelut   \n",
      "\n",
      "                           Toimittajan nimi  \\\n",
      "223294                                  NaN   \n",
      "351998                                  NaN   \n",
      "718418                                  NaN   \n",
      "1538049                          SOKOTEL OY   \n",
      "1548645                   CAVERION SUOMI OY   \n",
      "1548646                   CAVERION SUOMI OY   \n",
      "1548647                   CAVERION SUOMI OY   \n",
      "1548648                   CAVERION SUOMI OY   \n",
      "1548649                   CAVERION SUOMI OY   \n",
      "1548766             EDUCATION FACILITIES OY   \n",
      "1548767             EDUCATION FACILITIES OY   \n",
      "1548770             EDUCATION FACILITIES OY   \n",
      "1548772             EDUCATION FACILITIES OY   \n",
      "1548773             EDUCATION FACILITIES OY   \n",
      "1548774             EDUCATION FACILITIES OY   \n",
      "1548775             EDUCATION FACILITIES OY   \n",
      "1548776             EDUCATION FACILITIES OY   \n",
      "1548777             EDUCATION FACILITIES OY   \n",
      "1555826             JYVÄSKYLÄN ALUETAKSI OY   \n",
      "1564290              JYVÄSKYLÄN LIIKENNE OY   \n",
      "1564300              JYVÄSKYLÄN LIIKENNE OY   \n",
      "1575450         TOTAL KIINTEISTÖPALVELUT OY   \n",
      "1575451         TOTAL KIINTEISTÖPALVELUT OY   \n",
      "1575452         TOTAL KIINTEISTÖPALVELUT OY   \n",
      "1575453         TOTAL KIINTEISTÖPALVELUT OY   \n",
      "1579538         TOTAL KIINTEISTÖPALVELUT OY   \n",
      "1579541         TOTAL KIINTEISTÖPALVELUT OY   \n",
      "1586688                   AUTOTALO DRAKE OY   \n",
      "1594314  SUOMEN PELASTUSALAN KESKUSJÄRJESTÖ   \n",
      "1616231                MAANSIIRTO VIIALA KY   \n",
      "1666196              OPPIMISKESKUS HIPPO OY   \n",
      "1678866        TAMPEREEN LÄÄKINTÄVOIMISTELU   \n",
      "1688397                        VARPPAAJA OY   \n",
      "\n",
      "                                      Tiliryhmä Tilin nimi    Nettosumma  \n",
      "223294                                      NaN        NaN  4.445487e+08  \n",
      "351998                                      NaN        NaN  4.080993e+08  \n",
      "718418                                      NaN        NaN  4.039062e+08  \n",
      "1538049              Ulkoisten palvelujen ostot        NaN  4.927300e+02  \n",
      "1548645              Ulkoisten palvelujen ostot        NaN  3.147204e+04  \n",
      "1548646              Ulkoisten palvelujen ostot        NaN  3.147204e+04  \n",
      "1548647              Ulkoisten palvelujen ostot        NaN  3.147204e+04  \n",
      "1548648              Ulkoisten palvelujen ostot        NaN  3.161704e+04  \n",
      "1548649              Ulkoisten palvelujen ostot        NaN  3.161704e+04  \n",
      "1548766  Ulkoiset aineet, tarvikkeet ja tavarat        NaN  9.207600e+02  \n",
      "1548767  Ulkoiset aineet, tarvikkeet ja tavarat        NaN  7.334700e+02  \n",
      "1548770  Ulkoiset aineet, tarvikkeet ja tavarat        NaN  9.050100e+02  \n",
      "1548772  Ulkoiset aineet, tarvikkeet ja tavarat        NaN  3.817000e+02  \n",
      "1548773  Ulkoiset aineet, tarvikkeet ja tavarat        NaN  2.853100e+02  \n",
      "1548774  Ulkoiset aineet, tarvikkeet ja tavarat        NaN  2.222800e+02  \n",
      "1548775  Ulkoiset aineet, tarvikkeet ja tavarat        NaN  2.178500e+02  \n",
      "1548776  Ulkoiset aineet, tarvikkeet ja tavarat        NaN  5.760400e+02  \n",
      "1548777  Ulkoiset aineet, tarvikkeet ja tavarat        NaN  6.695500e+02  \n",
      "1555826              Ulkoisten palvelujen ostot        NaN  5.518000e+01  \n",
      "1564290              Ulkoisten palvelujen ostot        NaN  9.165450e+03  \n",
      "1564300              Ulkoisten palvelujen ostot        NaN  3.200000e+02  \n",
      "1575450  Ulkoiset aineet, tarvikkeet ja tavarat        NaN  3.193000e+02  \n",
      "1575451  Ulkoiset aineet, tarvikkeet ja tavarat        NaN  6.860000e+01  \n",
      "1575452  Ulkoiset aineet, tarvikkeet ja tavarat        NaN  5.420000e+01  \n",
      "1575453  Ulkoiset aineet, tarvikkeet ja tavarat        NaN  1.277500e+02  \n",
      "1579538              Ulkoisten palvelujen ostot        NaN  9.205800e+02  \n",
      "1579541              Ulkoisten palvelujen ostot        NaN  8.780000e+01  \n",
      "1586688              Ulkoisten palvelujen ostot        NaN  6.161000e+01  \n",
      "1594314              Ulkoisten palvelujen ostot        NaN  1.000000e+02  \n",
      "1616231  Ulkoiset aineet, tarvikkeet ja tavarat        NaN  4.490350e+03  \n",
      "1666196              Ulkoisten palvelujen ostot        NaN  3.244700e+02  \n",
      "1678866              Ulkoisten palvelujen ostot        NaN  5.985000e+02  \n",
      "1688397              Ulkoisten palvelujen ostot        NaN  8.400000e+01  \n"
     ]
    }
   ],
   "source": [
    "df1 = df[df.isna().any(axis=1)]\n",
    "print(df1)"
   ]
  },
  {
   "cell_type": "markdown",
   "id": "741c26bc",
   "metadata": {},
   "source": [
    "Kolme ensimmäistä riviä on hyödyttömiä analyysin kannalta, sillä niissä ei ole kirjattu kuin vain kyseisen oston nettosumma. Poistetaan nämä rivit:"
   ]
  },
  {
   "cell_type": "code",
   "execution_count": 104,
   "id": "25e704ed",
   "metadata": {},
   "outputs": [
    {
     "name": "stdout",
     "output_type": "stream",
     "text": [
      "Puuttuvia arvoja sarakkeessa 'Vuosi':  0\n",
      "Puuttuvia arvoja sarakkeessa 'Vastuualue':  0\n",
      "Puuttuvia arvoja sarakkeessa 'Toimittajan nimi':  0\n",
      "Puuttuvia arvoja sarakkeessa 'Tiliryhmä':  0\n",
      "Puuttuvia arvoja sarakkeessa 'Tilin nimi':  30\n",
      "Puuttuvia arvoja sarakkeessa 'Nettosumma':  0\n"
     ]
    }
   ],
   "source": [
    "# Poistetaan rivi, jos neljästä sarakkeesta puuttuu arvo:\n",
    "df.dropna(thresh=4, inplace = True)\n",
    "\n",
    "# Tarkastetaan, paljonko puuttuvia arvoja on nyt eri sarakkeissa: \n",
    "print('Puuttuvia arvoja sarakkeessa \\'Vuosi\\': ', df['Vuosi'].isna().sum())\n",
    "print('Puuttuvia arvoja sarakkeessa \\'Vastuualue\\': ', df['Vastuualue'].isna().sum())\n",
    "print('Puuttuvia arvoja sarakkeessa \\'Toimittajan nimi\\': ', df['Toimittajan nimi'].isna().sum())\n",
    "print('Puuttuvia arvoja sarakkeessa \\'Tiliryhmä\\': ', df['Tiliryhmä'].isna().sum())\n",
    "print('Puuttuvia arvoja sarakkeessa \\'Tilin nimi\\': ', df['Tilin nimi'].isna().sum())\n",
    "print('Puuttuvia arvoja sarakkeessa \\'Nettosumma\\': ', df['Nettosumma'].isna().sum())"
   ]
  },
  {
   "cell_type": "markdown",
   "id": "4db0b30c",
   "metadata": {},
   "source": [
    "Useita puuttuvia arvoja sisältävät kolme riviä saatiin poistettua datakehikosta. Puuttuvia arvoja on kuitenkin vielä runsaasti sarakkeessa *'Tilin nimi'*. Näiltä riveiltä muut tiedot on saatavilla, mutta tilin nimeä ei voida päätellä näiden perusteella. Säilytetään nämä rivit datakehikossa, mutta muutetaan niiden nimeksi *'Tuntematon tili'*:"
   ]
  },
  {
   "cell_type": "code",
   "execution_count": 105,
   "id": "9ae27680",
   "metadata": {},
   "outputs": [
    {
     "name": "stdout",
     "output_type": "stream",
     "text": [
      "Puuttuvia arvoja sarakkeessa 'Tilin nimi':  0\n"
     ]
    }
   ],
   "source": [
    "df['Tilin nimi'] = df[['Tilin nimi']].fillna('Tuntematon tili')\n",
    "\n",
    "# Tarkastetaan, että onnistuttiin:\n",
    "print('Puuttuvia arvoja sarakkeessa \\'Tilin nimi\\': ', df['Tilin nimi'].isna().sum())"
   ]
  },
  {
   "cell_type": "markdown",
   "id": "9b22b3a2",
   "metadata": {},
   "source": [
    "Hyvältä vaikuttaa. Nyt aineisto on valmis analyysiä varten.      \n",
    "\n",
    "### Aineiston tallentaminen CSV:ksi <a name=\"subparagraph5\"></a> \n",
    "\n",
    "Tallennetaan lopuksi saatu datakehikko csv:ksi *'ostolaskut.csv'*, ja käytetään sitä jatkossa datan analysointia varten."
   ]
  },
  {
   "cell_type": "code",
   "execution_count": 106,
   "id": "81810959-4fd1-4b80-bee5-4d93bea35762",
   "metadata": {},
   "outputs": [],
   "source": [
    "df.to_csv(\"ostolaskut.csv\", index = False)"
   ]
  },
  {
   "cell_type": "markdown",
   "id": "c62159d0",
   "metadata": {},
   "source": [
    "Ostolaskudatan analysointi jatkuu tiedostossa *'ostolaskut_analyysi.ipynb'*\n",
    "\n",
    "[Takaisin alkuun](#header1)"
   ]
  },
  {
   "cell_type": "code",
   "execution_count": null,
   "id": "f6deb692-8f24-4524-9f83-4cd5fb20baf2",
   "metadata": {},
   "outputs": [],
   "source": []
  }
 ],
 "metadata": {
  "kernelspec": {
   "display_name": "Python 3 (ipykernel)",
   "language": "python",
   "name": "python3"
  },
  "language_info": {
   "codemirror_mode": {
    "name": "ipython",
    "version": 3
   },
   "file_extension": ".py",
   "mimetype": "text/x-python",
   "name": "python",
   "nbconvert_exporter": "python",
   "pygments_lexer": "ipython3",
   "version": "3.9.13"
  }
 },
 "nbformat": 4,
 "nbformat_minor": 5
}
